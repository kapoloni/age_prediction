{
 "cells": [
  {
   "cell_type": "code",
   "execution_count": 1,
   "metadata": {},
   "outputs": [],
   "source": [
    "import os\n",
    "import glob\n",
    "import pandas as pd\n",
    "from sklearn.model_selection import StratifiedKFold"
   ]
  },
  {
   "cell_type": "code",
   "execution_count": 12,
   "metadata": {},
   "outputs": [],
   "source": [
    "def _in_dataframe(data_array, df):\n",
    "    df = df.reset_index(drop=True)\n",
    "    df['type'] = df['Subject ID'].apply(lambda x: True if x in data_array else False)\n",
    "    return df[df.type].reset_index(drop=True)\n",
    "\n",
    "def get_split(dt, age_range, test_size):\n",
    "    split = dt[(dt.Age >= age_range[0]) & (dt.Age < age_range[1])]\n",
    "    print(split.shape)\n",
    "    unique_subjs = split.drop_duplicates('Subject ID', keep='first').reset_index(drop=True)\n",
    "\n",
    "    delta = unique_subjs['Age'].max() - unique_subjs['Age'].min()\n",
    "    discrete = pd.cut(unique_subjs['Age'], bins=int(delta/3), right=False).reset_index(drop=True).astype(str)\n",
    "    unique_subjs['Age_disc'] = discrete\n",
    "    skf = StratifiedKFold(n_splits=15)\n",
    "    idx = [(train_index, test_index) for train_index,\n",
    "                                         test_index in skf.split(unique_subjs['Subject ID'],\n",
    "                                                                 unique_subjs['Age_disc'])][0]\n",
    "    train_idx, test_idx = idx[0], idx[1]\n",
    "    train = unique_subjs.iloc[train_idx]\n",
    "    test = unique_subjs.iloc[test_idx]\n",
    "\n",
    "    skf = StratifiedKFold(n_splits=14)\n",
    "    idx = [(train_index, val_index) for train_index,\n",
    "                                        val_index in skf.split(train['Subject ID'],\n",
    "                                                               train['Age_disc'])][0]\n",
    "    train_idx, val_idx = idx[0], idx[1]\n",
    "    \n",
    "    print(\"Unique train\", len(train_idx), 'val', len(val_idx), 'test', len(test_idx))\n",
    "    train_data = unique_subjs.iloc[train_idx]\n",
    "    train = _in_dataframe(train_data.values, split)\n",
    "    val = unique_subjs.iloc[val_idx]\n",
    "    print(\"Final train\", len(train), 'val', len(val), 'test', len(test))\n",
    "    print(train.Age.describe(), val.Age.describe(), test.Age.describe())\n",
    "    return train, val, test\n"
   ]
  },
  {
   "cell_type": "markdown",
   "metadata": {},
   "source": [
    "## Information for ADNI images"
   ]
  },
  {
   "cell_type": "code",
   "execution_count": 3,
   "metadata": {},
   "outputs": [
    {
     "output_type": "execute_result",
     "data": {
      "text/plain": [
       "   Subject ID   Phase Sex  Weight Research Group  APOE A1  APOE A2  \\\n",
       "0  006_S_0731  ADNI 3   M    62.0             CN      3.0      3.0   \n",
       "1  035_S_4464  ADNI 3   M    83.9             CN      3.0      4.0   \n",
       "2  035_S_0555  ADNI 1   M    77.0             CN      3.0      4.0   \n",
       "3  018_S_4399  ADNI 2   F    56.7             CN      3.0      4.0   \n",
       "4  007_S_1222  ADNI 3   F    81.6             CN      2.0      3.0   \n",
       "\n",
       "                         Visit Archive Date Study Date   Age  \\\n",
       "0  ADNI3_Initial_Visit-Cont_Pt    9/19/2017  9/18/2017  82.7   \n",
       "1  ADNI3_Initial_Visit-Cont_Pt    2/06/2018  2/01/2018  76.4   \n",
       "2              ADNI1GO_Month_6    5/25/2007  5/24/2007  77.7   \n",
       "3           ADNI2_Year_2_Visit    1/06/2014  1/06/2014  80.1   \n",
       "4  ADNI3_Initial_Visit-Cont_Pt    1/18/2018  1/17/2018  84.4   \n",
       "\n",
       "   MMSE Total Score  GDSCALE Total Score  Global CDR  FAQ Total Score  \\\n",
       "0               NaN                  NaN         NaN              NaN   \n",
       "1               NaN                  NaN         NaN              NaN   \n",
       "2              30.0                  NaN         0.0              0.0   \n",
       "3              29.0                  1.0         0.0              0.0   \n",
       "4               NaN                  NaN         NaN              NaN   \n",
       "\n",
       "   NPI-Q Total Score Modality                     Description  Image ID  \\\n",
       "0                NaN      MRI  Sagittal 3D Accelerated MPRAGE    905360   \n",
       "1                NaN      MRI     Accelerated Sagittal MPRAGE    959742   \n",
       "2                0.0      MRI                          MPRAGE     55241   \n",
       "3                NaN      MRI                          MPRAGE    403909   \n",
       "4                NaN      MRI     Accelerated Sagittal MPRAGE    955206   \n",
       "\n",
       "                                  Image Filename  \n",
       "0  006_S_0731_ADNI3_Initial_Visit-Cont_Pt.nii.gz  \n",
       "1  035_S_4464_ADNI3_Initial_Visit-Cont_Pt.nii.gz  \n",
       "2              035_S_0555_ADNI1GO_Month_6.nii.gz  \n",
       "3           018_S_4399_ADNI2_Year_2_Visit.nii.gz  \n",
       "4  007_S_1222_ADNI3_Initial_Visit-Cont_Pt.nii.gz  "
      ],
      "text/html": "<div>\n<style scoped>\n    .dataframe tbody tr th:only-of-type {\n        vertical-align: middle;\n    }\n\n    .dataframe tbody tr th {\n        vertical-align: top;\n    }\n\n    .dataframe thead th {\n        text-align: right;\n    }\n</style>\n<table border=\"1\" class=\"dataframe\">\n  <thead>\n    <tr style=\"text-align: right;\">\n      <th></th>\n      <th>Subject ID</th>\n      <th>Phase</th>\n      <th>Sex</th>\n      <th>Weight</th>\n      <th>Research Group</th>\n      <th>APOE A1</th>\n      <th>APOE A2</th>\n      <th>Visit</th>\n      <th>Archive Date</th>\n      <th>Study Date</th>\n      <th>Age</th>\n      <th>MMSE Total Score</th>\n      <th>GDSCALE Total Score</th>\n      <th>Global CDR</th>\n      <th>FAQ Total Score</th>\n      <th>NPI-Q Total Score</th>\n      <th>Modality</th>\n      <th>Description</th>\n      <th>Image ID</th>\n      <th>Image Filename</th>\n    </tr>\n  </thead>\n  <tbody>\n    <tr>\n      <th>0</th>\n      <td>006_S_0731</td>\n      <td>ADNI 3</td>\n      <td>M</td>\n      <td>62.0</td>\n      <td>CN</td>\n      <td>3.0</td>\n      <td>3.0</td>\n      <td>ADNI3_Initial_Visit-Cont_Pt</td>\n      <td>9/19/2017</td>\n      <td>9/18/2017</td>\n      <td>82.7</td>\n      <td>NaN</td>\n      <td>NaN</td>\n      <td>NaN</td>\n      <td>NaN</td>\n      <td>NaN</td>\n      <td>MRI</td>\n      <td>Sagittal 3D Accelerated MPRAGE</td>\n      <td>905360</td>\n      <td>006_S_0731_ADNI3_Initial_Visit-Cont_Pt.nii.gz</td>\n    </tr>\n    <tr>\n      <th>1</th>\n      <td>035_S_4464</td>\n      <td>ADNI 3</td>\n      <td>M</td>\n      <td>83.9</td>\n      <td>CN</td>\n      <td>3.0</td>\n      <td>4.0</td>\n      <td>ADNI3_Initial_Visit-Cont_Pt</td>\n      <td>2/06/2018</td>\n      <td>2/01/2018</td>\n      <td>76.4</td>\n      <td>NaN</td>\n      <td>NaN</td>\n      <td>NaN</td>\n      <td>NaN</td>\n      <td>NaN</td>\n      <td>MRI</td>\n      <td>Accelerated Sagittal MPRAGE</td>\n      <td>959742</td>\n      <td>035_S_4464_ADNI3_Initial_Visit-Cont_Pt.nii.gz</td>\n    </tr>\n    <tr>\n      <th>2</th>\n      <td>035_S_0555</td>\n      <td>ADNI 1</td>\n      <td>M</td>\n      <td>77.0</td>\n      <td>CN</td>\n      <td>3.0</td>\n      <td>4.0</td>\n      <td>ADNI1GO_Month_6</td>\n      <td>5/25/2007</td>\n      <td>5/24/2007</td>\n      <td>77.7</td>\n      <td>30.0</td>\n      <td>NaN</td>\n      <td>0.0</td>\n      <td>0.0</td>\n      <td>0.0</td>\n      <td>MRI</td>\n      <td>MPRAGE</td>\n      <td>55241</td>\n      <td>035_S_0555_ADNI1GO_Month_6.nii.gz</td>\n    </tr>\n    <tr>\n      <th>3</th>\n      <td>018_S_4399</td>\n      <td>ADNI 2</td>\n      <td>F</td>\n      <td>56.7</td>\n      <td>CN</td>\n      <td>3.0</td>\n      <td>4.0</td>\n      <td>ADNI2_Year_2_Visit</td>\n      <td>1/06/2014</td>\n      <td>1/06/2014</td>\n      <td>80.1</td>\n      <td>29.0</td>\n      <td>1.0</td>\n      <td>0.0</td>\n      <td>0.0</td>\n      <td>NaN</td>\n      <td>MRI</td>\n      <td>MPRAGE</td>\n      <td>403909</td>\n      <td>018_S_4399_ADNI2_Year_2_Visit.nii.gz</td>\n    </tr>\n    <tr>\n      <th>4</th>\n      <td>007_S_1222</td>\n      <td>ADNI 3</td>\n      <td>F</td>\n      <td>81.6</td>\n      <td>CN</td>\n      <td>2.0</td>\n      <td>3.0</td>\n      <td>ADNI3_Initial_Visit-Cont_Pt</td>\n      <td>1/18/2018</td>\n      <td>1/17/2018</td>\n      <td>84.4</td>\n      <td>NaN</td>\n      <td>NaN</td>\n      <td>NaN</td>\n      <td>NaN</td>\n      <td>NaN</td>\n      <td>MRI</td>\n      <td>Accelerated Sagittal MPRAGE</td>\n      <td>955206</td>\n      <td>007_S_1222_ADNI3_Initial_Visit-Cont_Pt.nii.gz</td>\n    </tr>\n  </tbody>\n</table>\n</div>"
     },
     "metadata": {},
     "execution_count": 3
    }
   ],
   "source": [
    "adni = pd.read_csv(os.path.join(\"database_info\", \"ADNI_data_information.csv\"))\n",
    "# Only CN subjects\n",
    "adni_cn = adni[adni['Research Group'] == 'CN'].reset_index(drop=True)\n",
    "adni_cn.head()"
   ]
  },
  {
   "cell_type": "markdown",
   "metadata": {},
   "source": [
    "## IXI"
   ]
  },
  {
   "cell_type": "code",
   "execution_count": 4,
   "metadata": {},
   "outputs": [
    {
     "output_type": "execute_result",
     "data": {
      "text/plain": [
       "((563,), 563)"
      ]
     },
     "metadata": {},
     "execution_count": 4
    }
   ],
   "source": [
    "ixi = pd.read_csv(os.path.join(\"database_info\", \"IXI_data_information.csv\"))\n",
    "ixi['Subject ID'] = ixi['Image Filename']\n",
    "ixi['Research Group'] = 'CN'\n",
    "ixi['Image Filename'].shape, ixi['Image Filename'].nunique()"
   ]
  },
  {
   "source": [
    "## Experiment images"
   ],
   "cell_type": "markdown",
   "metadata": {}
  },
  {
   "cell_type": "code",
   "execution_count": 5,
   "metadata": {},
   "outputs": [],
   "source": [
    "adni_exp = pd.read_csv(os.path.join(\"database_info\", \"ADNI_experiment_information.csv\"))"
   ]
  },
  {
   "cell_type": "markdown",
   "metadata": {},
   "source": [
    "### Remove experiment images (To be used for the final validation and test)"
   ]
  },
  {
   "cell_type": "code",
   "execution_count": 6,
   "metadata": {},
   "outputs": [
    {
     "output_type": "execute_result",
     "data": {
      "text/plain": [
       "(540, 21)"
      ]
     },
     "metadata": {},
     "execution_count": 6
    }
   ],
   "source": [
    "cn_exp = adni_exp[adni_exp['Research Group'] == 'CN'].reset_index(drop=True)\n",
    "cn_exp['Image Filename'] = cn_exp[['Subject ID', 'Visit']].apply(lambda x: x[0]+'_'+x[1].replace(' ', '_').replace('/', '')+\".nii.gz\", axis=1)\n",
    "\n",
    "# Remove cn_exp images\n",
    "adni_cn['CN'] = adni_cn['Subject ID'].apply(lambda x: True if x in cn_exp['Subject ID'].values else False)\n",
    "adni_imgs = adni_cn[~adni_cn.CN].reset_index(drop=True)\n",
    "adni_imgs['Image Filename'] = adni_imgs['Image Filename'].apply(lambda x: x.split(\".nii\")[0])\n",
    "adni_imgs.shape\n"
   ]
  },
  {
   "source": [
    "## Create train, test and validation datasets [70-100]"
   ],
   "cell_type": "markdown",
   "metadata": {}
  },
  {
   "cell_type": "code",
   "execution_count": 7,
   "metadata": {},
   "outputs": [
    {
     "output_type": "stream",
     "name": "stdout",
     "text": [
      "ADNI\nFinal train 272 images with 167 unique subjects\nIXI\nFinal train 57 images with 57 unique subjects\nTrain IXI/ADNI 329\n"
     ]
    }
   ],
   "source": [
    "# Train ADNI between 70 and 100 years\n",
    "train_adni = adni_imgs[adni_imgs.Age >= 70].reset_index(drop=True)\n",
    "print(\"ADNI\\nFinal train\", len(train_adni), \"images with\", train_adni['Subject ID'].nunique(), \"unique subjects\")\n",
    "\n",
    "# Train IXI between 70 and 100 years\n",
    "train_ixi = ixi[ixi.Age >= 70].reset_index(drop=True)\n",
    "print(\"IXI\\nFinal train\", len(train_ixi), \"images with\", train_ixi['Subject ID'].nunique(), \"unique subjects\")\n",
    "\n",
    "# Train 0 and 70 years ADNI+IXI\n",
    "cols = ['Subject ID', 'Age', 'Research Group', 'Image Filename']\n",
    "train_70100 = pd.concat([train_adni[cols], train_ixi[cols]])\n",
    "print(\"Train IXI/ADNI\", len(train_70100))\n",
    "# train_70100.to_csv(\"train_70-100.csv\", index=False)"
   ]
  },
  {
   "cell_type": "code",
   "execution_count": 8,
   "metadata": {},
   "outputs": [
    {
     "output_type": "stream",
     "name": "stdout",
     "text": [
      "70-100\nVal 151 test 151\n"
     ]
    }
   ],
   "source": [
    "# Divide CN exp images between test and validation sets\n",
    "cn_exp['Image Filename'] = cn_exp['Image Filename'].apply(lambda x: x.split(\".nii\")[0])\n",
    "\n",
    "delta = cn_exp['Age'].max() - cn_exp['Age'].min()\n",
    "cn_exp['Age_disc'] = pd.cut(cn_exp['Age'], bins=int(delta/3), right=False).reset_index(drop=True).astype(str)\n",
    "skf = StratifiedKFold(n_splits=2)\n",
    "val_idx = [val_index for val_index, _ in skf.split(cn_exp['Subject ID'],\n",
    "                                                   cn_exp['Age_disc'])][0]\n",
    "\n",
    "val = cn_exp.iloc[val_idx]\n",
    "test = cn_exp.iloc[~val_idx]\n",
    "print(\"70-100\\nVal\", len(val), 'test', len(test))\n",
    "test.to_csv(\"test_70-100.csv\", index=False)\n",
    "val.to_csv(\"val_70-100.csv\", index=False)"
   ]
  },
  {
   "source": [
    "## Create train, test and validation datasets [0-70]"
   ],
   "cell_type": "markdown",
   "metadata": {}
  },
  {
   "cell_type": "code",
   "execution_count": 13,
   "metadata": {},
   "outputs": [
    {
     "output_type": "stream",
     "name": "stdout",
     "text": [
      "ADNI\n",
      "(268, 21)\n",
      "Unique train 135 val 11 test 11\n",
      "Final train 225 val 11 test 11\n",
      "count    225.000000\n",
      "mean      65.765333\n",
      "std        2.991797\n",
      "min       55.800000\n",
      "25%       64.800000\n",
      "50%       66.200000\n",
      "75%       67.800000\n",
      "max       69.900000\n",
      "Name: Age, dtype: float64 count    11.000000\n",
      "mean     65.872727\n",
      "std       3.165151\n",
      "min      59.100000\n",
      "25%      64.600000\n",
      "50%      66.800000\n",
      "75%      67.850000\n",
      "max      69.500000\n",
      "Name: Age, dtype: float64 count    11.000000\n",
      "mean     65.290909\n",
      "std       3.166530\n",
      "min      59.100000\n",
      "25%      63.200000\n",
      "50%      65.400000\n",
      "75%      67.850000\n",
      "max      69.000000\n",
      "Name: Age, dtype: float64\n",
      "IXI\n",
      "(506, 15)\n",
      "Unique train 438 val 34 test 34\n",
      "Final train 438 val 34 test 34\n",
      "count    438.000000\n",
      "mean      46.289840\n",
      "std       14.790354\n",
      "min       19.980000\n",
      "25%       33.032500\n",
      "50%       46.235000\n",
      "75%       60.027500\n",
      "max       69.690000\n",
      "Name: Age, dtype: float64 count    34.000000\n",
      "mean     37.856765\n",
      "std      11.860377\n",
      "min      21.570000\n",
      "25%      29.335000\n",
      "50%      34.190000\n",
      "75%      45.582500\n",
      "max      61.150000\n",
      "Name: Age, dtype: float64 count    34.000000\n",
      "mean     46.293824\n",
      "std      14.389529\n",
      "min      21.570000\n",
      "25%      34.300000\n",
      "50%      45.780000\n",
      "75%      58.915000\n",
      "max      68.600000\n",
      "Name: Age, dtype: float64\n",
      "Train IXI/ADNI 663\n",
      "Val IXI/ADNI 45\n",
      "Test IXI/ADNI 45\n",
      "/home/kpoloni/.local/lib/python3.6/site-packages/sklearn/model_selection/_split.py:668: UserWarning: The least populated class in y has only 10 members, which is less than n_splits=15.\n",
      "  % (min_groups, self.n_splits)), UserWarning)\n",
      "/home/kpoloni/.local/lib/python3.6/site-packages/sklearn/model_selection/_split.py:668: UserWarning: The least populated class in y has only 9 members, which is less than n_splits=14.\n",
      "  % (min_groups, self.n_splits)), UserWarning)\n"
     ]
    }
   ],
   "source": [
    "# Train, val, test split for ADNI between 0 and 70 years\n",
    "print(\"ADNI\")\n",
    "train_adni, val_adni, test_adni = get_split(adni_imgs, [0, 70], .1)\n",
    "print(\"IXI\")\n",
    "# Train, val, test split for IXI between 0 and 70 years\n",
    "train_ixi, val_ixi, test_ixi = get_split(ixi, [0, 70], .1)\n",
    "\n",
    "# Train 0 and 70 years ADNI+IXI\n",
    "cols = ['Subject ID', 'Age', 'Research Group', 'Image Filename']\n",
    "train_070 = pd.concat([train_adni[cols], train_ixi[cols]])\n",
    "print(\"Train IXI/ADNI\", len(train_070))\n",
    "train_070.to_csv(\"train_0-70.csv\", index=False)\n",
    "\n",
    "# Val 0 and 70 years ADNI+IXI\n",
    "val_070 = pd.concat([val_adni[cols], val_ixi[cols]])\n",
    "print(\"Val IXI/ADNI\", len(val_070))\n",
    "val_070.to_csv(\"val_0-70.csv\", index=False)\n",
    "\n",
    "# Test 0 and 70 years ADNI+IXI\n",
    "test_070 = pd.concat([test_adni[cols], test_ixi[cols]])\n",
    "print(\"Test IXI/ADNI\", len(test_070))\n",
    "test_070.to_csv(\"test_0-70.csv\", index=False)"
   ]
  },
  {
   "cell_type": "markdown",
   "metadata": {},
   "source": [
    "## Format csv for all images"
   ]
  },
  {
   "cell_type": "code",
   "execution_count": 10,
   "metadata": {},
   "outputs": [
    {
     "output_type": "stream",
     "name": "stdout",
     "text": [
      "(1103, 4)\n"
     ]
    }
   ],
   "source": [
    "# All images\n",
    "all_ = pd.concat([adni_imgs[cols], ixi[cols]])\n",
    "print(all_.shape)\n",
    "all_.to_csv(\"train_all.csv\", index=False)"
   ]
  },
  {
   "cell_type": "markdown",
   "metadata": {},
   "source": [
    "## AD and MCI"
   ]
  },
  {
   "cell_type": "code",
   "execution_count": 11,
   "metadata": {},
   "outputs": [
    {
     "output_type": "stream",
     "name": "stdout",
     "text": [
      "AD 209 MCI 251\n"
     ]
    }
   ],
   "source": [
    "# adni_exp contains AD and MCI images\n",
    "\n",
    "ad = adni_exp[adni_exp['Research Group'] == 'AD'].reset_index(drop=True)\n",
    "mci = adni_exp[adni_exp['Research Group'] == 'MCI'].reset_index(drop=True)\n",
    "ad['Image Filename'] = ad[['Subject ID','Visit']].apply(lambda x: x[0] + \"_\" + x[1].replace(\" \", \"_\").replace(\"/\", \"\"), axis=1)\n",
    "ad = ad[['Subject ID', 'Age', 'Research Group', 'Image Filename']]\n",
    "mci['Image Filename'] = mci[['Subject ID','Visit']].apply(lambda x: x[0] + \"_\" + x[1].replace(\" \", \"_\").replace(\"/\", \"\"), axis=1)\n",
    "mci = mci[['Subject ID', 'Age', 'Research Group', 'Image Filename']]\n",
    "print(\"AD\", len(ad), \"MCI\", len(mci))\n",
    "ad.to_csv(\"ad_70-100.csv\", index=False)\n",
    "mci.to_csv(\"mci_70-100.csv\", index=False)"
   ]
  },
  {
   "cell_type": "code",
   "execution_count": null,
   "metadata": {},
   "outputs": [],
   "source": []
  },
  {
   "cell_type": "code",
   "execution_count": null,
   "metadata": {},
   "outputs": [],
   "source": []
  }
 ],
 "metadata": {
  "kernelspec": {
   "name": "torch-dev",
   "display_name": "torch-dev",
   "language": "python"
  },
  "language_info": {
   "codemirror_mode": {
    "name": "ipython",
    "version": 3
   },
   "file_extension": ".py",
   "mimetype": "text/x-python",
   "name": "python",
   "nbconvert_exporter": "python",
   "pygments_lexer": "ipython3",
   "version": "3.6.9"
  }
 },
 "nbformat": 4,
 "nbformat_minor": 4
}