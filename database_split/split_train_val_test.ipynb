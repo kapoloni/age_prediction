{
 "cells": [
  {
   "cell_type": "code",
   "execution_count": 1,
   "metadata": {},
   "outputs": [],
   "source": [
    "import os\n",
    "import glob\n",
    "import pandas as pd\n",
    "from sklearn.model_selection import StratifiedKFold"
   ]
  },
  {
   "cell_type": "code",
   "execution_count": 3,
   "metadata": {},
   "outputs": [],
   "source": [
    "def _in_dataframe(data_array, df):\n",
    "    df = df.reset_index(drop=True)\n",
    "    df['type'] = df['Subject ID'].apply(lambda x: True if x in data_array else False)\n",
    "    return df[df.type].reset_index(drop=True)\n",
    "\n",
    "def get_split(dt, age_range, test_size):\n",
    "    split = dt[(dt.Age >= age_range[0]) & (dt.Age < age_range[1])]\n",
    "    print(split.shape)\n",
    "    unique_subjs = split.drop_duplicates('Subject ID', keep='first').reset_index(drop=True)\n",
    "\n",
    "    delta = unique_subjs['Age'].max() - unique_subjs['Age'].min()\n",
    "    discrete = pd.cut(unique_subjs['Age'], bins=int(delta/3), right=False).reset_index(drop=True).astype(str)\n",
    "    unique_subjs['Age_disc'] = discrete\n",
    "    skf = StratifiedKFold(n_splits=15)\n",
    "    idx = [(train_index, test_index) for train_index,\n",
    "                                         test_index in skf.split(unique_subjs['Subject ID'],\n",
    "                                                                 unique_subjs['Age_disc'])][0]\n",
    "    train_idx, test_idx = idx[0], idx[1]\n",
    "    train = unique_subjs.iloc[train_idx]\n",
    "    test = unique_subjs.iloc[test_idx]\n",
    "\n",
    "    skf = StratifiedKFold(n_splits=14)\n",
    "    idx = [(train_index, val_index) for train_index,\n",
    "                                        val_index in skf.split(train['Subject ID'],\n",
    "                                                               train['Age_disc'])][0]\n",
    "    train_idx, val_idx = idx[0], idx[1]\n",
    "    \n",
    "    print(\"Unique train\", len(train_idx), 'val', len(val_idx), 'test', len(test_idx))\n",
    "    train_data = unique_subjs.iloc[train_idx]\n",
    "    train = _in_dataframe(train_data.values, split)\n",
    "    val = unique_subjs.iloc[val_idx]\n",
    "    print(\"Final train\", len(train), 'val', len(val), 'test', len(test))\n",
    "    print(train.Age.describe(), val.Age.describe(), test.Age.describe())\n",
    "    return train, val, test\n"
   ]
  },
  {
   "cell_type": "markdown",
   "metadata": {},
   "source": [
    "## Information for ADNI images"
   ]
  },
  {
   "cell_type": "code",
   "execution_count": 2,
   "metadata": {},
   "outputs": [
    {
     "output_type": "execute_result",
     "data": {
      "text/plain": [
       "   Subject ID   Phase Sex  Weight Research Group  APOE A1  APOE A2  \\\n",
       "0  006_S_0731  ADNI 3   M    62.0             CN      3.0      3.0   \n",
       "1  035_S_4464  ADNI 3   M    83.9             CN      3.0      4.0   \n",
       "2  035_S_0555  ADNI 1   M    77.0             CN      3.0      4.0   \n",
       "3  018_S_4399  ADNI 2   F    56.7             CN      3.0      4.0   \n",
       "4  007_S_1222  ADNI 3   F    81.6             CN      2.0      3.0   \n",
       "\n",
       "                         Visit Archive Date Study Date   Age  \\\n",
       "0  ADNI3_Initial_Visit-Cont_Pt    9/19/2017  9/18/2017  82.7   \n",
       "1  ADNI3_Initial_Visit-Cont_Pt    2/06/2018  2/01/2018  76.4   \n",
       "2              ADNI1GO_Month_6    5/25/2007  5/24/2007  77.7   \n",
       "3           ADNI2_Year_2_Visit    1/06/2014  1/06/2014  80.1   \n",
       "4  ADNI3_Initial_Visit-Cont_Pt    1/18/2018  1/17/2018  84.4   \n",
       "\n",
       "   MMSE Total Score  GDSCALE Total Score  Global CDR  FAQ Total Score  \\\n",
       "0               NaN                  NaN         NaN              NaN   \n",
       "1               NaN                  NaN         NaN              NaN   \n",
       "2              30.0                  NaN         0.0              0.0   \n",
       "3              29.0                  1.0         0.0              0.0   \n",
       "4               NaN                  NaN         NaN              NaN   \n",
       "\n",
       "   NPI-Q Total Score Modality                     Description  Image ID  \\\n",
       "0                NaN      MRI  Sagittal 3D Accelerated MPRAGE    905360   \n",
       "1                NaN      MRI     Accelerated Sagittal MPRAGE    959742   \n",
       "2                0.0      MRI                          MPRAGE     55241   \n",
       "3                NaN      MRI                          MPRAGE    403909   \n",
       "4                NaN      MRI     Accelerated Sagittal MPRAGE    955206   \n",
       "\n",
       "                                  Image Filename  \n",
       "0  006_S_0731_ADNI3_Initial_Visit-Cont_Pt.nii.gz  \n",
       "1  035_S_4464_ADNI3_Initial_Visit-Cont_Pt.nii.gz  \n",
       "2              035_S_0555_ADNI1GO_Month_6.nii.gz  \n",
       "3           018_S_4399_ADNI2_Year_2_Visit.nii.gz  \n",
       "4  007_S_1222_ADNI3_Initial_Visit-Cont_Pt.nii.gz  "
      ],
      "text/html": "<div>\n<style scoped>\n    .dataframe tbody tr th:only-of-type {\n        vertical-align: middle;\n    }\n\n    .dataframe tbody tr th {\n        vertical-align: top;\n    }\n\n    .dataframe thead th {\n        text-align: right;\n    }\n</style>\n<table border=\"1\" class=\"dataframe\">\n  <thead>\n    <tr style=\"text-align: right;\">\n      <th></th>\n      <th>Subject ID</th>\n      <th>Phase</th>\n      <th>Sex</th>\n      <th>Weight</th>\n      <th>Research Group</th>\n      <th>APOE A1</th>\n      <th>APOE A2</th>\n      <th>Visit</th>\n      <th>Archive Date</th>\n      <th>Study Date</th>\n      <th>Age</th>\n      <th>MMSE Total Score</th>\n      <th>GDSCALE Total Score</th>\n      <th>Global CDR</th>\n      <th>FAQ Total Score</th>\n      <th>NPI-Q Total Score</th>\n      <th>Modality</th>\n      <th>Description</th>\n      <th>Image ID</th>\n      <th>Image Filename</th>\n    </tr>\n  </thead>\n  <tbody>\n    <tr>\n      <th>0</th>\n      <td>006_S_0731</td>\n      <td>ADNI 3</td>\n      <td>M</td>\n      <td>62.0</td>\n      <td>CN</td>\n      <td>3.0</td>\n      <td>3.0</td>\n      <td>ADNI3_Initial_Visit-Cont_Pt</td>\n      <td>9/19/2017</td>\n      <td>9/18/2017</td>\n      <td>82.7</td>\n      <td>NaN</td>\n      <td>NaN</td>\n      <td>NaN</td>\n      <td>NaN</td>\n      <td>NaN</td>\n      <td>MRI</td>\n      <td>Sagittal 3D Accelerated MPRAGE</td>\n      <td>905360</td>\n      <td>006_S_0731_ADNI3_Initial_Visit-Cont_Pt.nii.gz</td>\n    </tr>\n    <tr>\n      <th>1</th>\n      <td>035_S_4464</td>\n      <td>ADNI 3</td>\n      <td>M</td>\n      <td>83.9</td>\n      <td>CN</td>\n      <td>3.0</td>\n      <td>4.0</td>\n      <td>ADNI3_Initial_Visit-Cont_Pt</td>\n      <td>2/06/2018</td>\n      <td>2/01/2018</td>\n      <td>76.4</td>\n      <td>NaN</td>\n      <td>NaN</td>\n      <td>NaN</td>\n      <td>NaN</td>\n      <td>NaN</td>\n      <td>MRI</td>\n      <td>Accelerated Sagittal MPRAGE</td>\n      <td>959742</td>\n      <td>035_S_4464_ADNI3_Initial_Visit-Cont_Pt.nii.gz</td>\n    </tr>\n    <tr>\n      <th>2</th>\n      <td>035_S_0555</td>\n      <td>ADNI 1</td>\n      <td>M</td>\n      <td>77.0</td>\n      <td>CN</td>\n      <td>3.0</td>\n      <td>4.0</td>\n      <td>ADNI1GO_Month_6</td>\n      <td>5/25/2007</td>\n      <td>5/24/2007</td>\n      <td>77.7</td>\n      <td>30.0</td>\n      <td>NaN</td>\n      <td>0.0</td>\n      <td>0.0</td>\n      <td>0.0</td>\n      <td>MRI</td>\n      <td>MPRAGE</td>\n      <td>55241</td>\n      <td>035_S_0555_ADNI1GO_Month_6.nii.gz</td>\n    </tr>\n    <tr>\n      <th>3</th>\n      <td>018_S_4399</td>\n      <td>ADNI 2</td>\n      <td>F</td>\n      <td>56.7</td>\n      <td>CN</td>\n      <td>3.0</td>\n      <td>4.0</td>\n      <td>ADNI2_Year_2_Visit</td>\n      <td>1/06/2014</td>\n      <td>1/06/2014</td>\n      <td>80.1</td>\n      <td>29.0</td>\n      <td>1.0</td>\n      <td>0.0</td>\n      <td>0.0</td>\n      <td>NaN</td>\n      <td>MRI</td>\n      <td>MPRAGE</td>\n      <td>403909</td>\n      <td>018_S_4399_ADNI2_Year_2_Visit.nii.gz</td>\n    </tr>\n    <tr>\n      <th>4</th>\n      <td>007_S_1222</td>\n      <td>ADNI 3</td>\n      <td>F</td>\n      <td>81.6</td>\n      <td>CN</td>\n      <td>2.0</td>\n      <td>3.0</td>\n      <td>ADNI3_Initial_Visit-Cont_Pt</td>\n      <td>1/18/2018</td>\n      <td>1/17/2018</td>\n      <td>84.4</td>\n      <td>NaN</td>\n      <td>NaN</td>\n      <td>NaN</td>\n      <td>NaN</td>\n      <td>NaN</td>\n      <td>MRI</td>\n      <td>Accelerated Sagittal MPRAGE</td>\n      <td>955206</td>\n      <td>007_S_1222_ADNI3_Initial_Visit-Cont_Pt.nii.gz</td>\n    </tr>\n  </tbody>\n</table>\n</div>"
     },
     "metadata": {},
     "execution_count": 2
    }
   ],
   "source": [
    "adni = pd.read_csv(os.path.join(\"database_info\", \"ADNI_data_information.csv\"))\n",
    "# Only CN subjects\n",
    "adni_cn = adni[adni['Research Group'] == 'CN'].reset_index(drop=True)\n",
    "adni_cn.head()"
   ]
  },
  {
   "cell_type": "markdown",
   "metadata": {},
   "source": [
    "## IXI"
   ]
  },
  {
   "cell_type": "code",
   "execution_count": 4,
   "metadata": {},
   "outputs": [
    {
     "output_type": "execute_result",
     "data": {
      "text/plain": [
       "((563,), 563)"
      ]
     },
     "metadata": {},
     "execution_count": 4
    }
   ],
   "source": [
    "ixi = pd.read_csv(os.path.join(\"database_info\", \"IXI_data_information.csv\"))\n",
    "ixi['Subject ID'] = ixi['Image Filename']\n",
    "ixi['Research Group'] = 'CN'\n",
    "ixi['Image Filename'].shape, ixi['Image Filename'].nunique()"
   ]
  },
  {
   "source": [
    "## Experiment images"
   ],
   "cell_type": "markdown",
   "metadata": {}
  },
  {
   "cell_type": "code",
   "execution_count": 5,
   "metadata": {},
   "outputs": [],
   "source": [
    "adni_exp = pd.read_csv(os.path.join(\"database_info\", \"ADNI_experiment_information.csv\"))"
   ]
  },
  {
   "cell_type": "markdown",
   "metadata": {},
   "source": [
    "### Remove experiment images (To be used for the final validation and test)"
   ]
  },
  {
   "cell_type": "code",
   "execution_count": 6,
   "metadata": {},
   "outputs": [
    {
     "output_type": "execute_result",
     "data": {
      "text/plain": [
       "(540, 21)"
      ]
     },
     "metadata": {},
     "execution_count": 6
    }
   ],
   "source": [
    "cn_exp = adni_exp[adni_exp['Research Group'] == 'CN'].reset_index(drop=True)\n",
    "cn_exp['Image Filename'] = cn_exp[['Subject ID', 'Visit']].apply(lambda x: x[0]+'_'+x[1].replace(' ', '_').replace('/', '')+\".nii.gz\", axis=1)\n",
    "\n",
    "# Remove cn_exp images\n",
    "adni_cn['CN'] = adni_cn['Subject ID'].apply(lambda x: True if x in cn_exp['Subject ID'].values else False)\n",
    "adni_imgs = adni_cn[~adni_cn.CN].reset_index(drop=True)\n",
    "adni_imgs['Image Filename'] = adni_imgs['Image Filename'].apply(lambda x: x.split(\".nii\")[0])\n",
    "adni_imgs.shape\n"
   ]
  },
  {
   "source": [
    "## Create train, test and validation datasets [70-100]"
   ],
   "cell_type": "markdown",
   "metadata": {}
  },
  {
   "cell_type": "code",
   "execution_count": 7,
   "metadata": {},
   "outputs": [
    {
     "output_type": "stream",
     "name": "stdout",
     "text": [
      "ADNI\nFinal train 272 images with 167 unique subjects\nIXI\nFinal train 57 images with 57 unique subjects\nTrain IXI/ADNI 329\n"
     ]
    }
   ],
   "source": [
    "# Train ADNI between 70 and 100 years\n",
    "train_adni = adni_imgs[adni_imgs.Age >= 70].reset_index(drop=True)\n",
    "print(\"ADNI\\nFinal train\", len(train_adni), \"images with\", train_adni['Subject ID'].nunique(), \"unique subjects\")\n",
    "\n",
    "# Train IXI between 70 and 100 years\n",
    "train_ixi = ixi[ixi.Age >= 70].reset_index(drop=True)\n",
    "print(\"IXI\\nFinal train\", len(train_ixi), \"images with\", train_ixi['Subject ID'].nunique(), \"unique subjects\")\n",
    "\n",
    "# Train 0 and 70 years ADNI+IXI\n",
    "cols = ['Subject ID', 'Age', 'Research Group', 'Image Filename']\n",
    "train_70100 = pd.concat([train_adni[cols], train_ixi[cols]])\n",
    "print(\"Train IXI/ADNI\", len(train_70100))\n",
    "# train_70100.to_csv(\"train_70-100.csv\", index=False)"
   ]
  },
  {
   "cell_type": "code",
   "execution_count": 8,
   "metadata": {},
   "outputs": [
    {
     "output_type": "stream",
     "name": "stdout",
     "text": [
      "70-100\nVal 151 test 151\n"
     ]
    }
   ],
   "source": [
    "# Divide CN exp images between test and validation sets\n",
    "cn_exp['Image Filename'] = cn_exp['Image Filename'].apply(lambda x: x.split(\".nii\")[0])\n",
    "\n",
    "delta = cn_exp['Age'].max() - cn_exp['Age'].min()\n",
    "cn_exp['Age_disc'] = pd.cut(cn_exp['Age'], bins=int(delta/3), right=False).reset_index(drop=True).astype(str)\n",
    "skf = StratifiedKFold(n_splits=2)\n",
    "val_idx = [val_index for val_index, _ in skf.split(cn_exp['Subject ID'],\n",
    "                                                   cn_exp['Age_disc'])][0]\n",
    "\n",
    "val = cn_exp.iloc[val_idx]\n",
    "test = cn_exp.iloc[~val_idx]\n",
    "print(\"70-100\\nVal\", len(val), 'test', len(test))\n",
    "test.to_csv(\"test_70-100.csv\", index=False)\n",
    "val.to_csv(\"val_70-100.csv\", index=False)"
   ]
  },
  {
   "source": [
    "## Create train, test and validation datasets [0-70]"
   ],
   "cell_type": "markdown",
   "metadata": {}
  },
  {
   "cell_type": "code",
   "execution_count": 9,
   "metadata": {},
   "outputs": [
    {
     "output_type": "stream",
     "name": "stdout",
     "text": [
      "ADNI\n",
      "(268, 21)\n",
      "Unique train 135 val 11 test 11\n",
      "Final train 225 val 11 test 11\n",
      "count    225.000000\n",
      "mean      65.765333\n",
      "std        2.991797\n",
      "min       55.800000\n",
      "25%       64.800000\n",
      "50%       66.200000\n",
      "75%       67.800000\n",
      "max       69.900000\n",
      "Name: Age, dtype: float64 count    11.000000\n",
      "mean     65.872727\n",
      "std       3.165151\n",
      "min      59.100000\n",
      "25%      64.600000\n",
      "50%      66.800000\n",
      "75%      67.850000\n",
      "max      69.500000\n",
      "Name: Age, dtype: float64 count    11.000000\n",
      "mean     65.290909\n",
      "std       3.166530\n",
      "min      59.100000\n",
      "25%      63.200000\n",
      "50%      65.400000\n",
      "75%      67.850000\n",
      "max      69.000000\n",
      "Name: Age, dtype: float64\n",
      "IXI\n",
      "(506, 15)\n",
      "Unique train 438 val 34 test 34\n",
      "Final train 438 val 34 test 34\n",
      "count    438.000000\n",
      "mean      46.289840\n",
      "std       14.790354\n",
      "min       19.980000\n",
      "25%       33.032500\n",
      "50%       46.235000\n",
      "75%       60.027500\n",
      "max       69.690000\n",
      "Name: Age, dtype: float64 count    34.000000\n",
      "mean     37.856765\n",
      "std      11.860377\n",
      "min      21.570000\n",
      "25%      29.335000\n",
      "50%      34.190000\n",
      "75%      45.582500\n",
      "max      61.150000\n",
      "Name: Age, dtype: float64 count    34.000000\n",
      "mean     46.293824\n",
      "std      14.389529\n",
      "min      21.570000\n",
      "25%      34.300000\n",
      "50%      45.780000\n",
      "75%      58.915000\n",
      "max      68.600000\n",
      "Name: Age, dtype: float64\n",
      "Train IXI/ADNI 663\n",
      "Val IXI/ADNI 45\n",
      "Test IXI/ADNI 45\n",
      "/home/kpoloni/.local/lib/python3.6/site-packages/sklearn/model_selection/_split.py:668: UserWarning: The least populated class in y has only 10 members, which is less than n_splits=15.\n",
      "  % (min_groups, self.n_splits)), UserWarning)\n",
      "/home/kpoloni/.local/lib/python3.6/site-packages/sklearn/model_selection/_split.py:668: UserWarning: The least populated class in y has only 9 members, which is less than n_splits=14.\n",
      "  % (min_groups, self.n_splits)), UserWarning)\n"
     ]
    }
   ],
   "source": [
    "# Train, val, test split for ADNI between 0 and 70 years\n",
    "print(\"ADNI\")\n",
    "train_adni, val_adni, test_adni = get_split(adni_imgs, [0, 70], .1)\n",
    "print(\"IXI\")\n",
    "# Train, val, test split for IXI between 0 and 70 years\n",
    "train_ixi, val_ixi, test_ixi = get_split(ixi, [0, 70], .1)\n",
    "\n",
    "# Train 0 and 70 years ADNI+IXI\n",
    "cols = ['Subject ID', 'Age', 'Research Group', 'Image Filename']\n",
    "train_070 = pd.concat([train_adni[cols], train_ixi[cols]])\n",
    "print(\"Train IXI/ADNI\", len(train_070))\n",
    "# train_070.to_csv(\"train_0-70.csv\", index=False)\n",
    "\n",
    "# Val 0 and 70 years ADNI+IXI\n",
    "val_070 = pd.concat([val_adni[cols], val_ixi[cols]])\n",
    "print(\"Val IXI/ADNI\", len(val_070))\n",
    "# val_070.to_csv(\"val_0-70.csv\", index=False)\n",
    "\n",
    "# Test 0 and 70 years ADNI+IXI\n",
    "test_070 = pd.concat([test_adni[cols], test_ixi[cols]])\n",
    "print(\"Test IXI/ADNI\", len(test_070))\n",
    "# test_070.to_csv(\"test_0-70.csv\", index=False)"
   ]
  },
  {
   "cell_type": "code",
   "execution_count": 12,
   "metadata": {},
   "outputs": [
    {
     "output_type": "execute_result",
     "data": {
      "text/plain": [
       "<AxesSubplot:ylabel='Frequency'>"
      ]
     },
     "metadata": {},
     "execution_count": 12
    },
    {
     "output_type": "display_data",
     "data": {
      "text/plain": "<Figure size 432x288 with 1 Axes>",
      "image/svg+xml": "<?xml version=\"1.0\" encoding=\"utf-8\" standalone=\"no\"?>\n<!DOCTYPE svg PUBLIC \"-//W3C//DTD SVG 1.1//EN\"\n  \"http://www.w3.org/Graphics/SVG/1.1/DTD/svg11.dtd\">\n<!-- Created with matplotlib (https://matplotlib.org/) -->\n<svg height=\"248.518125pt\" version=\"1.1\" viewBox=\"0 0 382.603125 248.518125\" width=\"382.603125pt\" xmlns=\"http://www.w3.org/2000/svg\" xmlns:xlink=\"http://www.w3.org/1999/xlink\">\n <metadata>\n  <rdf:RDF xmlns:cc=\"http://creativecommons.org/ns#\" xmlns:dc=\"http://purl.org/dc/elements/1.1/\" xmlns:rdf=\"http://www.w3.org/1999/02/22-rdf-syntax-ns#\">\n   <cc:Work>\n    <dc:type rdf:resource=\"http://purl.org/dc/dcmitype/StillImage\"/>\n    <dc:date>2021-05-24T17:04:04.774715</dc:date>\n    <dc:format>image/svg+xml</dc:format>\n    <dc:creator>\n     <cc:Agent>\n      <dc:title>Matplotlib v3.3.4, https://matplotlib.org/</dc:title>\n     </cc:Agent>\n    </dc:creator>\n   </cc:Work>\n  </rdf:RDF>\n </metadata>\n <defs>\n  <style type=\"text/css\">*{stroke-linecap:butt;stroke-linejoin:round;}</style>\n </defs>\n <g id=\"figure_1\">\n  <g id=\"patch_1\">\n   <path d=\"M 0 248.518125 \nL 382.603125 248.518125 \nL 382.603125 0 \nL 0 0 \nz\n\" style=\"fill:none;\"/>\n  </g>\n  <g id=\"axes_1\">\n   <g id=\"patch_2\">\n    <path d=\"M 40.603125 224.64 \nL 375.403125 224.64 \nL 375.403125 7.2 \nL 40.603125 7.2 \nz\n\" style=\"fill:#ffffff;\"/>\n   </g>\n   <g id=\"patch_3\">\n    <path clip-path=\"url(#p999f916a75)\" d=\"M 55.821307 224.64 \nL 86.25767 224.64 \nL 86.25767 111.684156 \nL 55.821307 111.684156 \nz\n\" style=\"fill:#1f77b4;opacity:0.7;\"/>\n   </g>\n   <g id=\"patch_4\">\n    <path clip-path=\"url(#p999f916a75)\" d=\"M 86.25767 224.64 \nL 116.694034 224.64 \nL 116.694034 92.858182 \nL 86.25767 92.858182 \nz\n\" style=\"fill:#1f77b4;opacity:0.7;\"/>\n   </g>\n   <g id=\"patch_5\">\n    <path clip-path=\"url(#p999f916a75)\" d=\"M 116.694034 224.64 \nL 147.130398 224.64 \nL 147.130398 111.684156 \nL 116.694034 111.684156 \nz\n\" style=\"fill:#1f77b4;opacity:0.7;\"/>\n   </g>\n   <g id=\"patch_6\">\n    <path clip-path=\"url(#p999f916a75)\" d=\"M 147.130398 224.64 \nL 177.566761 224.64 \nL 177.566761 168.162078 \nL 147.130398 168.162078 \nz\n\" style=\"fill:#1f77b4;opacity:0.7;\"/>\n   </g>\n   <g id=\"patch_7\">\n    <path clip-path=\"url(#p999f916a75)\" d=\"M 177.566761 224.64 \nL 208.003125 224.64 \nL 208.003125 168.162078 \nL 177.566761 168.162078 \nz\n\" style=\"fill:#1f77b4;opacity:0.7;\"/>\n   </g>\n   <g id=\"patch_8\">\n    <path clip-path=\"url(#p999f916a75)\" d=\"M 208.003125 224.64 \nL 238.439489 224.64 \nL 238.439489 168.162078 \nL 208.003125 168.162078 \nz\n\" style=\"fill:#1f77b4;opacity:0.7;\"/>\n   </g>\n   <g id=\"patch_9\">\n    <path clip-path=\"url(#p999f916a75)\" d=\"M 238.439489 224.64 \nL 268.875852 224.64 \nL 268.875852 205.814026 \nL 238.439489 205.814026 \nz\n\" style=\"fill:#1f77b4;opacity:0.7;\"/>\n   </g>\n   <g id=\"patch_10\">\n    <path clip-path=\"url(#p999f916a75)\" d=\"M 268.875852 224.64 \nL 299.312216 224.64 \nL 299.312216 130.51013 \nL 268.875852 130.51013 \nz\n\" style=\"fill:#1f77b4;opacity:0.7;\"/>\n   </g>\n   <g id=\"patch_11\">\n    <path clip-path=\"url(#p999f916a75)\" d=\"M 299.312216 224.64 \nL 329.74858 224.64 \nL 329.74858 168.162078 \nL 299.312216 168.162078 \nz\n\" style=\"fill:#1f77b4;opacity:0.7;\"/>\n   </g>\n   <g id=\"patch_12\">\n    <path clip-path=\"url(#p999f916a75)\" d=\"M 329.74858 224.64 \nL 360.184943 224.64 \nL 360.184943 74.032208 \nL 329.74858 74.032208 \nz\n\" style=\"fill:#1f77b4;opacity:0.7;\"/>\n   </g>\n   <g id=\"patch_13\">\n    <path clip-path=\"url(#p999f916a75)\" d=\"M 55.821307 224.64 \nL 85.940162 224.64 \nL 85.940162 168.162078 \nL 55.821307 168.162078 \nz\n\" style=\"fill:#ff7f0e;opacity:0.7;\"/>\n   </g>\n   <g id=\"patch_14\">\n    <path clip-path=\"url(#p999f916a75)\" d=\"M 85.940162 224.64 \nL 116.059017 224.64 \nL 116.059017 149.336104 \nL 85.940162 149.336104 \nz\n\" style=\"fill:#ff7f0e;opacity:0.7;\"/>\n   </g>\n   <g id=\"patch_15\">\n    <path clip-path=\"url(#p999f916a75)\" d=\"M 116.059017 224.64 \nL 146.177872 224.64 \nL 146.177872 168.162078 \nL 116.059017 168.162078 \nz\n\" style=\"fill:#ff7f0e;opacity:0.7;\"/>\n   </g>\n   <g id=\"patch_16\">\n    <path clip-path=\"url(#p999f916a75)\" d=\"M 146.177872 224.64 \nL 176.296727 224.64 \nL 176.296727 149.336104 \nL 146.177872 149.336104 \nz\n\" style=\"fill:#ff7f0e;opacity:0.7;\"/>\n   </g>\n   <g id=\"patch_17\">\n    <path clip-path=\"url(#p999f916a75)\" d=\"M 176.296727 224.64 \nL 206.415583 224.64 \nL 206.415583 168.162078 \nL 176.296727 168.162078 \nz\n\" style=\"fill:#ff7f0e;opacity:0.7;\"/>\n   </g>\n   <g id=\"patch_18\">\n    <path clip-path=\"url(#p999f916a75)\" d=\"M 206.415583 224.64 \nL 236.534438 224.64 \nL 236.534438 205.814026 \nL 206.415583 205.814026 \nz\n\" style=\"fill:#ff7f0e;opacity:0.7;\"/>\n   </g>\n   <g id=\"patch_19\">\n    <path clip-path=\"url(#p999f916a75)\" d=\"M 236.534438 224.64 \nL 266.653293 224.64 \nL 266.653293 168.162078 \nL 236.534438 168.162078 \nz\n\" style=\"fill:#ff7f0e;opacity:0.7;\"/>\n   </g>\n   <g id=\"patch_20\">\n    <path clip-path=\"url(#p999f916a75)\" d=\"M 266.653293 224.64 \nL 296.772148 224.64 \nL 296.772148 92.858182 \nL 266.653293 92.858182 \nz\n\" style=\"fill:#ff7f0e;opacity:0.7;\"/>\n   </g>\n   <g id=\"patch_21\">\n    <path clip-path=\"url(#p999f916a75)\" d=\"M 296.772148 224.64 \nL 326.891003 224.64 \nL 326.891003 111.684156 \nL 296.772148 111.684156 \nz\n\" style=\"fill:#ff7f0e;opacity:0.7;\"/>\n   </g>\n   <g id=\"patch_22\">\n    <path clip-path=\"url(#p999f916a75)\" d=\"M 326.891003 224.64 \nL 357.009858 224.64 \nL 357.009858 17.554286 \nL 326.891003 17.554286 \nz\n\" style=\"fill:#ff7f0e;opacity:0.7;\"/>\n   </g>\n   <g id=\"matplotlib.axis_1\">\n    <g id=\"xtick_1\">\n     <g id=\"line2d_1\">\n      <defs>\n       <path d=\"M 0 0 \nL 0 3.5 \n\" id=\"m9075a6b086\" style=\"stroke:#000000;stroke-width:0.8;\"/>\n      </defs>\n      <g>\n       <use style=\"stroke:#000000;stroke-width:0.8;\" x=\"45.85154\" xlink:href=\"#m9075a6b086\" y=\"224.64\"/>\n      </g>\n     </g>\n     <g id=\"text_1\">\n      <!-- 20 -->\n      <g transform=\"translate(39.48904 239.238437)scale(0.1 -0.1)\">\n       <defs>\n        <path d=\"M 19.1875 8.296875 \nL 53.609375 8.296875 \nL 53.609375 0 \nL 7.328125 0 \nL 7.328125 8.296875 \nQ 12.9375 14.109375 22.625 23.890625 \nQ 32.328125 33.6875 34.8125 36.53125 \nQ 39.546875 41.84375 41.421875 45.53125 \nQ 43.3125 49.21875 43.3125 52.78125 \nQ 43.3125 58.59375 39.234375 62.25 \nQ 35.15625 65.921875 28.609375 65.921875 \nQ 23.96875 65.921875 18.8125 64.3125 \nQ 13.671875 62.703125 7.8125 59.421875 \nL 7.8125 69.390625 \nQ 13.765625 71.78125 18.9375 73 \nQ 24.125 74.21875 28.421875 74.21875 \nQ 39.75 74.21875 46.484375 68.546875 \nQ 53.21875 62.890625 53.21875 53.421875 \nQ 53.21875 48.921875 51.53125 44.890625 \nQ 49.859375 40.875 45.40625 35.40625 \nQ 44.1875 33.984375 37.640625 27.21875 \nQ 31.109375 20.453125 19.1875 8.296875 \nz\n\" id=\"DejaVuSans-50\"/>\n        <path d=\"M 31.78125 66.40625 \nQ 24.171875 66.40625 20.328125 58.90625 \nQ 16.5 51.421875 16.5 36.375 \nQ 16.5 21.390625 20.328125 13.890625 \nQ 24.171875 6.390625 31.78125 6.390625 \nQ 39.453125 6.390625 43.28125 13.890625 \nQ 47.125 21.390625 47.125 36.375 \nQ 47.125 51.421875 43.28125 58.90625 \nQ 39.453125 66.40625 31.78125 66.40625 \nz\nM 31.78125 74.21875 \nQ 44.046875 74.21875 50.515625 64.515625 \nQ 56.984375 54.828125 56.984375 36.375 \nQ 56.984375 17.96875 50.515625 8.265625 \nQ 44.046875 -1.421875 31.78125 -1.421875 \nQ 19.53125 -1.421875 13.0625 8.265625 \nQ 6.59375 17.96875 6.59375 36.375 \nQ 6.59375 54.828125 13.0625 64.515625 \nQ 19.53125 74.21875 31.78125 74.21875 \nz\n\" id=\"DejaVuSans-48\"/>\n       </defs>\n       <use xlink:href=\"#DejaVuSans-50\"/>\n       <use x=\"63.623047\" xlink:href=\"#DejaVuSans-48\"/>\n      </g>\n     </g>\n    </g>\n    <g id=\"xtick_2\">\n     <g id=\"line2d_2\">\n      <g>\n       <use style=\"stroke:#000000;stroke-width:0.8;\" x=\"109.353238\" xlink:href=\"#m9075a6b086\" y=\"224.64\"/>\n      </g>\n     </g>\n     <g id=\"text_2\">\n      <!-- 30 -->\n      <g transform=\"translate(102.990738 239.238437)scale(0.1 -0.1)\">\n       <defs>\n        <path d=\"M 40.578125 39.3125 \nQ 47.65625 37.796875 51.625 33 \nQ 55.609375 28.21875 55.609375 21.1875 \nQ 55.609375 10.40625 48.1875 4.484375 \nQ 40.765625 -1.421875 27.09375 -1.421875 \nQ 22.515625 -1.421875 17.65625 -0.515625 \nQ 12.796875 0.390625 7.625 2.203125 \nL 7.625 11.71875 \nQ 11.71875 9.328125 16.59375 8.109375 \nQ 21.484375 6.890625 26.8125 6.890625 \nQ 36.078125 6.890625 40.9375 10.546875 \nQ 45.796875 14.203125 45.796875 21.1875 \nQ 45.796875 27.640625 41.28125 31.265625 \nQ 36.765625 34.90625 28.71875 34.90625 \nL 20.21875 34.90625 \nL 20.21875 43.015625 \nL 29.109375 43.015625 \nQ 36.375 43.015625 40.234375 45.921875 \nQ 44.09375 48.828125 44.09375 54.296875 \nQ 44.09375 59.90625 40.109375 62.90625 \nQ 36.140625 65.921875 28.71875 65.921875 \nQ 24.65625 65.921875 20.015625 65.03125 \nQ 15.375 64.15625 9.8125 62.3125 \nL 9.8125 71.09375 \nQ 15.4375 72.65625 20.34375 73.4375 \nQ 25.25 74.21875 29.59375 74.21875 \nQ 40.828125 74.21875 47.359375 69.109375 \nQ 53.90625 64.015625 53.90625 55.328125 \nQ 53.90625 49.265625 50.4375 45.09375 \nQ 46.96875 40.921875 40.578125 39.3125 \nz\n\" id=\"DejaVuSans-51\"/>\n       </defs>\n       <use xlink:href=\"#DejaVuSans-51\"/>\n       <use x=\"63.623047\" xlink:href=\"#DejaVuSans-48\"/>\n      </g>\n     </g>\n    </g>\n    <g id=\"xtick_3\">\n     <g id=\"line2d_3\">\n      <g>\n       <use style=\"stroke:#000000;stroke-width:0.8;\" x=\"172.854935\" xlink:href=\"#m9075a6b086\" y=\"224.64\"/>\n      </g>\n     </g>\n     <g id=\"text_3\">\n      <!-- 40 -->\n      <g transform=\"translate(166.492435 239.238437)scale(0.1 -0.1)\">\n       <defs>\n        <path d=\"M 37.796875 64.3125 \nL 12.890625 25.390625 \nL 37.796875 25.390625 \nz\nM 35.203125 72.90625 \nL 47.609375 72.90625 \nL 47.609375 25.390625 \nL 58.015625 25.390625 \nL 58.015625 17.1875 \nL 47.609375 17.1875 \nL 47.609375 0 \nL 37.796875 0 \nL 37.796875 17.1875 \nL 4.890625 17.1875 \nL 4.890625 26.703125 \nz\n\" id=\"DejaVuSans-52\"/>\n       </defs>\n       <use xlink:href=\"#DejaVuSans-52\"/>\n       <use x=\"63.623047\" xlink:href=\"#DejaVuSans-48\"/>\n      </g>\n     </g>\n    </g>\n    <g id=\"xtick_4\">\n     <g id=\"line2d_4\">\n      <g>\n       <use style=\"stroke:#000000;stroke-width:0.8;\" x=\"236.356633\" xlink:href=\"#m9075a6b086\" y=\"224.64\"/>\n      </g>\n     </g>\n     <g id=\"text_4\">\n      <!-- 50 -->\n      <g transform=\"translate(229.994133 239.238437)scale(0.1 -0.1)\">\n       <defs>\n        <path d=\"M 10.796875 72.90625 \nL 49.515625 72.90625 \nL 49.515625 64.59375 \nL 19.828125 64.59375 \nL 19.828125 46.734375 \nQ 21.96875 47.46875 24.109375 47.828125 \nQ 26.265625 48.1875 28.421875 48.1875 \nQ 40.625 48.1875 47.75 41.5 \nQ 54.890625 34.8125 54.890625 23.390625 \nQ 54.890625 11.625 47.5625 5.09375 \nQ 40.234375 -1.421875 26.90625 -1.421875 \nQ 22.3125 -1.421875 17.546875 -0.640625 \nQ 12.796875 0.140625 7.71875 1.703125 \nL 7.71875 11.625 \nQ 12.109375 9.234375 16.796875 8.0625 \nQ 21.484375 6.890625 26.703125 6.890625 \nQ 35.15625 6.890625 40.078125 11.328125 \nQ 45.015625 15.765625 45.015625 23.390625 \nQ 45.015625 31 40.078125 35.4375 \nQ 35.15625 39.890625 26.703125 39.890625 \nQ 22.75 39.890625 18.8125 39.015625 \nQ 14.890625 38.140625 10.796875 36.28125 \nz\n\" id=\"DejaVuSans-53\"/>\n       </defs>\n       <use xlink:href=\"#DejaVuSans-53\"/>\n       <use x=\"63.623047\" xlink:href=\"#DejaVuSans-48\"/>\n      </g>\n     </g>\n    </g>\n    <g id=\"xtick_5\">\n     <g id=\"line2d_5\">\n      <g>\n       <use style=\"stroke:#000000;stroke-width:0.8;\" x=\"299.858331\" xlink:href=\"#m9075a6b086\" y=\"224.64\"/>\n      </g>\n     </g>\n     <g id=\"text_5\">\n      <!-- 60 -->\n      <g transform=\"translate(293.495831 239.238437)scale(0.1 -0.1)\">\n       <defs>\n        <path d=\"M 33.015625 40.375 \nQ 26.375 40.375 22.484375 35.828125 \nQ 18.609375 31.296875 18.609375 23.390625 \nQ 18.609375 15.53125 22.484375 10.953125 \nQ 26.375 6.390625 33.015625 6.390625 \nQ 39.65625 6.390625 43.53125 10.953125 \nQ 47.40625 15.53125 47.40625 23.390625 \nQ 47.40625 31.296875 43.53125 35.828125 \nQ 39.65625 40.375 33.015625 40.375 \nz\nM 52.59375 71.296875 \nL 52.59375 62.3125 \nQ 48.875 64.0625 45.09375 64.984375 \nQ 41.3125 65.921875 37.59375 65.921875 \nQ 27.828125 65.921875 22.671875 59.328125 \nQ 17.53125 52.734375 16.796875 39.40625 \nQ 19.671875 43.65625 24.015625 45.921875 \nQ 28.375 48.1875 33.59375 48.1875 \nQ 44.578125 48.1875 50.953125 41.515625 \nQ 57.328125 34.859375 57.328125 23.390625 \nQ 57.328125 12.15625 50.6875 5.359375 \nQ 44.046875 -1.421875 33.015625 -1.421875 \nQ 20.359375 -1.421875 13.671875 8.265625 \nQ 6.984375 17.96875 6.984375 36.375 \nQ 6.984375 53.65625 15.1875 63.9375 \nQ 23.390625 74.21875 37.203125 74.21875 \nQ 40.921875 74.21875 44.703125 73.484375 \nQ 48.484375 72.75 52.59375 71.296875 \nz\n\" id=\"DejaVuSans-54\"/>\n       </defs>\n       <use xlink:href=\"#DejaVuSans-54\"/>\n       <use x=\"63.623047\" xlink:href=\"#DejaVuSans-48\"/>\n      </g>\n     </g>\n    </g>\n    <g id=\"xtick_6\">\n     <g id=\"line2d_6\">\n      <g>\n       <use style=\"stroke:#000000;stroke-width:0.8;\" x=\"363.360028\" xlink:href=\"#m9075a6b086\" y=\"224.64\"/>\n      </g>\n     </g>\n     <g id=\"text_6\">\n      <!-- 70 -->\n      <g transform=\"translate(356.997528 239.238437)scale(0.1 -0.1)\">\n       <defs>\n        <path d=\"M 8.203125 72.90625 \nL 55.078125 72.90625 \nL 55.078125 68.703125 \nL 28.609375 0 \nL 18.3125 0 \nL 43.21875 64.59375 \nL 8.203125 64.59375 \nz\n\" id=\"DejaVuSans-55\"/>\n       </defs>\n       <use xlink:href=\"#DejaVuSans-55\"/>\n       <use x=\"63.623047\" xlink:href=\"#DejaVuSans-48\"/>\n      </g>\n     </g>\n    </g>\n   </g>\n   <g id=\"matplotlib.axis_2\">\n    <g id=\"ytick_1\">\n     <g id=\"line2d_7\">\n      <defs>\n       <path d=\"M 0 0 \nL -3.5 0 \n\" id=\"m4a9a23aa90\" style=\"stroke:#000000;stroke-width:0.8;\"/>\n      </defs>\n      <g>\n       <use style=\"stroke:#000000;stroke-width:0.8;\" x=\"40.603125\" xlink:href=\"#m4a9a23aa90\" y=\"224.64\"/>\n      </g>\n     </g>\n     <g id=\"text_7\">\n      <!-- 0 -->\n      <g transform=\"translate(27.240625 228.439219)scale(0.1 -0.1)\">\n       <use xlink:href=\"#DejaVuSans-48\"/>\n      </g>\n     </g>\n    </g>\n    <g id=\"ytick_2\">\n     <g id=\"line2d_8\">\n      <g>\n       <use style=\"stroke:#000000;stroke-width:0.8;\" x=\"40.603125\" xlink:href=\"#m4a9a23aa90\" y=\"186.988052\"/>\n      </g>\n     </g>\n     <g id=\"text_8\">\n      <!-- 2 -->\n      <g transform=\"translate(27.240625 190.787271)scale(0.1 -0.1)\">\n       <use xlink:href=\"#DejaVuSans-50\"/>\n      </g>\n     </g>\n    </g>\n    <g id=\"ytick_3\">\n     <g id=\"line2d_9\">\n      <g>\n       <use style=\"stroke:#000000;stroke-width:0.8;\" x=\"40.603125\" xlink:href=\"#m4a9a23aa90\" y=\"149.336104\"/>\n      </g>\n     </g>\n     <g id=\"text_9\">\n      <!-- 4 -->\n      <g transform=\"translate(27.240625 153.135323)scale(0.1 -0.1)\">\n       <use xlink:href=\"#DejaVuSans-52\"/>\n      </g>\n     </g>\n    </g>\n    <g id=\"ytick_4\">\n     <g id=\"line2d_10\">\n      <g>\n       <use style=\"stroke:#000000;stroke-width:0.8;\" x=\"40.603125\" xlink:href=\"#m4a9a23aa90\" y=\"111.684156\"/>\n      </g>\n     </g>\n     <g id=\"text_10\">\n      <!-- 6 -->\n      <g transform=\"translate(27.240625 115.483375)scale(0.1 -0.1)\">\n       <use xlink:href=\"#DejaVuSans-54\"/>\n      </g>\n     </g>\n    </g>\n    <g id=\"ytick_5\">\n     <g id=\"line2d_11\">\n      <g>\n       <use style=\"stroke:#000000;stroke-width:0.8;\" x=\"40.603125\" xlink:href=\"#m4a9a23aa90\" y=\"74.032208\"/>\n      </g>\n     </g>\n     <g id=\"text_11\">\n      <!-- 8 -->\n      <g transform=\"translate(27.240625 77.831427)scale(0.1 -0.1)\">\n       <defs>\n        <path d=\"M 31.78125 34.625 \nQ 24.75 34.625 20.71875 30.859375 \nQ 16.703125 27.09375 16.703125 20.515625 \nQ 16.703125 13.921875 20.71875 10.15625 \nQ 24.75 6.390625 31.78125 6.390625 \nQ 38.8125 6.390625 42.859375 10.171875 \nQ 46.921875 13.96875 46.921875 20.515625 \nQ 46.921875 27.09375 42.890625 30.859375 \nQ 38.875 34.625 31.78125 34.625 \nz\nM 21.921875 38.8125 \nQ 15.578125 40.375 12.03125 44.71875 \nQ 8.5 49.078125 8.5 55.328125 \nQ 8.5 64.0625 14.71875 69.140625 \nQ 20.953125 74.21875 31.78125 74.21875 \nQ 42.671875 74.21875 48.875 69.140625 \nQ 55.078125 64.0625 55.078125 55.328125 \nQ 55.078125 49.078125 51.53125 44.71875 \nQ 48 40.375 41.703125 38.8125 \nQ 48.828125 37.15625 52.796875 32.3125 \nQ 56.78125 27.484375 56.78125 20.515625 \nQ 56.78125 9.90625 50.3125 4.234375 \nQ 43.84375 -1.421875 31.78125 -1.421875 \nQ 19.734375 -1.421875 13.25 4.234375 \nQ 6.78125 9.90625 6.78125 20.515625 \nQ 6.78125 27.484375 10.78125 32.3125 \nQ 14.796875 37.15625 21.921875 38.8125 \nz\nM 18.3125 54.390625 \nQ 18.3125 48.734375 21.84375 45.5625 \nQ 25.390625 42.390625 31.78125 42.390625 \nQ 38.140625 42.390625 41.71875 45.5625 \nQ 45.3125 48.734375 45.3125 54.390625 \nQ 45.3125 60.0625 41.71875 63.234375 \nQ 38.140625 66.40625 31.78125 66.40625 \nQ 25.390625 66.40625 21.84375 63.234375 \nQ 18.3125 60.0625 18.3125 54.390625 \nz\n\" id=\"DejaVuSans-56\"/>\n       </defs>\n       <use xlink:href=\"#DejaVuSans-56\"/>\n      </g>\n     </g>\n    </g>\n    <g id=\"ytick_6\">\n     <g id=\"line2d_12\">\n      <g>\n       <use style=\"stroke:#000000;stroke-width:0.8;\" x=\"40.603125\" xlink:href=\"#m4a9a23aa90\" y=\"36.38026\"/>\n      </g>\n     </g>\n     <g id=\"text_12\">\n      <!-- 10 -->\n      <g transform=\"translate(20.878125 40.179478)scale(0.1 -0.1)\">\n       <defs>\n        <path d=\"M 12.40625 8.296875 \nL 28.515625 8.296875 \nL 28.515625 63.921875 \nL 10.984375 60.40625 \nL 10.984375 69.390625 \nL 28.421875 72.90625 \nL 38.28125 72.90625 \nL 38.28125 8.296875 \nL 54.390625 8.296875 \nL 54.390625 0 \nL 12.40625 0 \nz\n\" id=\"DejaVuSans-49\"/>\n       </defs>\n       <use xlink:href=\"#DejaVuSans-49\"/>\n       <use x=\"63.623047\" xlink:href=\"#DejaVuSans-48\"/>\n      </g>\n     </g>\n    </g>\n    <g id=\"text_13\">\n     <!-- Frequency -->\n     <g transform=\"translate(14.798438 141.749687)rotate(-90)scale(0.1 -0.1)\">\n      <defs>\n       <path d=\"M 9.8125 72.90625 \nL 51.703125 72.90625 \nL 51.703125 64.59375 \nL 19.671875 64.59375 \nL 19.671875 43.109375 \nL 48.578125 43.109375 \nL 48.578125 34.8125 \nL 19.671875 34.8125 \nL 19.671875 0 \nL 9.8125 0 \nz\n\" id=\"DejaVuSans-70\"/>\n       <path d=\"M 41.109375 46.296875 \nQ 39.59375 47.171875 37.8125 47.578125 \nQ 36.03125 48 33.890625 48 \nQ 26.265625 48 22.1875 43.046875 \nQ 18.109375 38.09375 18.109375 28.8125 \nL 18.109375 0 \nL 9.078125 0 \nL 9.078125 54.6875 \nL 18.109375 54.6875 \nL 18.109375 46.1875 \nQ 20.953125 51.171875 25.484375 53.578125 \nQ 30.03125 56 36.53125 56 \nQ 37.453125 56 38.578125 55.875 \nQ 39.703125 55.765625 41.0625 55.515625 \nz\n\" id=\"DejaVuSans-114\"/>\n       <path d=\"M 56.203125 29.59375 \nL 56.203125 25.203125 \nL 14.890625 25.203125 \nQ 15.484375 15.921875 20.484375 11.0625 \nQ 25.484375 6.203125 34.421875 6.203125 \nQ 39.59375 6.203125 44.453125 7.46875 \nQ 49.3125 8.734375 54.109375 11.28125 \nL 54.109375 2.78125 \nQ 49.265625 0.734375 44.1875 -0.34375 \nQ 39.109375 -1.421875 33.890625 -1.421875 \nQ 20.796875 -1.421875 13.15625 6.1875 \nQ 5.515625 13.8125 5.515625 26.8125 \nQ 5.515625 40.234375 12.765625 48.109375 \nQ 20.015625 56 32.328125 56 \nQ 43.359375 56 49.78125 48.890625 \nQ 56.203125 41.796875 56.203125 29.59375 \nz\nM 47.21875 32.234375 \nQ 47.125 39.59375 43.09375 43.984375 \nQ 39.0625 48.390625 32.421875 48.390625 \nQ 24.90625 48.390625 20.390625 44.140625 \nQ 15.875 39.890625 15.1875 32.171875 \nz\n\" id=\"DejaVuSans-101\"/>\n       <path d=\"M 14.796875 27.296875 \nQ 14.796875 17.390625 18.875 11.75 \nQ 22.953125 6.109375 30.078125 6.109375 \nQ 37.203125 6.109375 41.296875 11.75 \nQ 45.40625 17.390625 45.40625 27.296875 \nQ 45.40625 37.203125 41.296875 42.84375 \nQ 37.203125 48.484375 30.078125 48.484375 \nQ 22.953125 48.484375 18.875 42.84375 \nQ 14.796875 37.203125 14.796875 27.296875 \nz\nM 45.40625 8.203125 \nQ 42.578125 3.328125 38.25 0.953125 \nQ 33.9375 -1.421875 27.875 -1.421875 \nQ 17.96875 -1.421875 11.734375 6.484375 \nQ 5.515625 14.40625 5.515625 27.296875 \nQ 5.515625 40.1875 11.734375 48.09375 \nQ 17.96875 56 27.875 56 \nQ 33.9375 56 38.25 53.625 \nQ 42.578125 51.265625 45.40625 46.390625 \nL 45.40625 54.6875 \nL 54.390625 54.6875 \nL 54.390625 -20.796875 \nL 45.40625 -20.796875 \nz\n\" id=\"DejaVuSans-113\"/>\n       <path d=\"M 8.5 21.578125 \nL 8.5 54.6875 \nL 17.484375 54.6875 \nL 17.484375 21.921875 \nQ 17.484375 14.15625 20.5 10.265625 \nQ 23.53125 6.390625 29.59375 6.390625 \nQ 36.859375 6.390625 41.078125 11.03125 \nQ 45.3125 15.671875 45.3125 23.6875 \nL 45.3125 54.6875 \nL 54.296875 54.6875 \nL 54.296875 0 \nL 45.3125 0 \nL 45.3125 8.40625 \nQ 42.046875 3.421875 37.71875 1 \nQ 33.40625 -1.421875 27.6875 -1.421875 \nQ 18.265625 -1.421875 13.375 4.4375 \nQ 8.5 10.296875 8.5 21.578125 \nz\nM 31.109375 56 \nz\n\" id=\"DejaVuSans-117\"/>\n       <path d=\"M 54.890625 33.015625 \nL 54.890625 0 \nL 45.90625 0 \nL 45.90625 32.71875 \nQ 45.90625 40.484375 42.875 44.328125 \nQ 39.84375 48.1875 33.796875 48.1875 \nQ 26.515625 48.1875 22.3125 43.546875 \nQ 18.109375 38.921875 18.109375 30.90625 \nL 18.109375 0 \nL 9.078125 0 \nL 9.078125 54.6875 \nL 18.109375 54.6875 \nL 18.109375 46.1875 \nQ 21.34375 51.125 25.703125 53.5625 \nQ 30.078125 56 35.796875 56 \nQ 45.21875 56 50.046875 50.171875 \nQ 54.890625 44.34375 54.890625 33.015625 \nz\n\" id=\"DejaVuSans-110\"/>\n       <path d=\"M 48.78125 52.59375 \nL 48.78125 44.1875 \nQ 44.96875 46.296875 41.140625 47.34375 \nQ 37.3125 48.390625 33.40625 48.390625 \nQ 24.65625 48.390625 19.8125 42.84375 \nQ 14.984375 37.3125 14.984375 27.296875 \nQ 14.984375 17.28125 19.8125 11.734375 \nQ 24.65625 6.203125 33.40625 6.203125 \nQ 37.3125 6.203125 41.140625 7.25 \nQ 44.96875 8.296875 48.78125 10.40625 \nL 48.78125 2.09375 \nQ 45.015625 0.34375 40.984375 -0.53125 \nQ 36.96875 -1.421875 32.421875 -1.421875 \nQ 20.0625 -1.421875 12.78125 6.34375 \nQ 5.515625 14.109375 5.515625 27.296875 \nQ 5.515625 40.671875 12.859375 48.328125 \nQ 20.21875 56 33.015625 56 \nQ 37.15625 56 41.109375 55.140625 \nQ 45.0625 54.296875 48.78125 52.59375 \nz\n\" id=\"DejaVuSans-99\"/>\n       <path d=\"M 32.171875 -5.078125 \nQ 28.375 -14.84375 24.75 -17.8125 \nQ 21.140625 -20.796875 15.09375 -20.796875 \nL 7.90625 -20.796875 \nL 7.90625 -13.28125 \nL 13.1875 -13.28125 \nQ 16.890625 -13.28125 18.9375 -11.515625 \nQ 21 -9.765625 23.484375 -3.21875 \nL 25.09375 0.875 \nL 2.984375 54.6875 \nL 12.5 54.6875 \nL 29.59375 11.921875 \nL 46.6875 54.6875 \nL 56.203125 54.6875 \nz\n\" id=\"DejaVuSans-121\"/>\n      </defs>\n      <use xlink:href=\"#DejaVuSans-70\"/>\n      <use x=\"50.269531\" xlink:href=\"#DejaVuSans-114\"/>\n      <use x=\"89.132812\" xlink:href=\"#DejaVuSans-101\"/>\n      <use x=\"150.65625\" xlink:href=\"#DejaVuSans-113\"/>\n      <use x=\"214.132812\" xlink:href=\"#DejaVuSans-117\"/>\n      <use x=\"277.511719\" xlink:href=\"#DejaVuSans-101\"/>\n      <use x=\"339.035156\" xlink:href=\"#DejaVuSans-110\"/>\n      <use x=\"402.414062\" xlink:href=\"#DejaVuSans-99\"/>\n      <use x=\"457.394531\" xlink:href=\"#DejaVuSans-121\"/>\n     </g>\n    </g>\n   </g>\n   <g id=\"patch_23\">\n    <path d=\"M 40.603125 224.64 \nL 40.603125 7.2 \n\" style=\"fill:none;stroke:#000000;stroke-linecap:square;stroke-linejoin:miter;stroke-width:0.8;\"/>\n   </g>\n   <g id=\"patch_24\">\n    <path d=\"M 375.403125 224.64 \nL 375.403125 7.2 \n\" style=\"fill:none;stroke:#000000;stroke-linecap:square;stroke-linejoin:miter;stroke-width:0.8;\"/>\n   </g>\n   <g id=\"patch_25\">\n    <path d=\"M 40.603125 224.64 \nL 375.403125 224.64 \n\" style=\"fill:none;stroke:#000000;stroke-linecap:square;stroke-linejoin:miter;stroke-width:0.8;\"/>\n   </g>\n   <g id=\"patch_26\">\n    <path d=\"M 40.603125 7.2 \nL 375.403125 7.2 \n\" style=\"fill:none;stroke:#000000;stroke-linecap:square;stroke-linejoin:miter;stroke-width:0.8;\"/>\n   </g>\n  </g>\n </g>\n <defs>\n  <clipPath id=\"p999f916a75\">\n   <rect height=\"217.44\" width=\"334.8\" x=\"40.603125\" y=\"7.2\"/>\n  </clipPath>\n </defs>\n</svg>\n",
      "image/png": "[encoded data removed]"
     },
     "metadata": {
      "needs_background": "light"
     }
    }
   ],
   "source": [
    "val_070.Age.plot(kind='hist', alpha=0.7)\n",
    "test_070.Age.plot(kind='hist', alpha=0.7)"
   ]
  },
  {
   "cell_type": "markdown",
   "metadata": {},
   "source": [
    "## Format csv for all images"
   ]
  },
  {
   "cell_type": "code",
   "execution_count": 10,
   "metadata": {},
   "outputs": [
    {
     "output_type": "stream",
     "name": "stdout",
     "text": [
      "(1103, 4)\n"
     ]
    }
   ],
   "source": [
    "# All images\n",
    "all_ = pd.concat([adni_imgs[cols], ixi[cols]])\n",
    "print(all_.shape)\n",
    "all_.to_csv(\"train_all.csv\", index=False)"
   ]
  },
  {
   "cell_type": "markdown",
   "metadata": {},
   "source": [
    "## AD and MCI"
   ]
  },
  {
   "cell_type": "code",
   "execution_count": 11,
   "metadata": {},
   "outputs": [
    {
     "output_type": "stream",
     "name": "stdout",
     "text": [
      "AD 209 MCI 251\n"
     ]
    }
   ],
   "source": [
    "# adni_exp contains AD and MCI images\n",
    "\n",
    "ad = adni_exp[adni_exp['Research Group'] == 'AD'].reset_index(drop=True)\n",
    "mci = adni_exp[adni_exp['Research Group'] == 'MCI'].reset_index(drop=True)\n",
    "ad['Image Filename'] = ad[['Subject ID','Visit']].apply(lambda x: x[0] + \"_\" + x[1].replace(\" \", \"_\").replace(\"/\", \"\"), axis=1)\n",
    "ad = ad[['Subject ID', 'Age', 'Research Group', 'Image Filename']]\n",
    "mci['Image Filename'] = mci[['Subject ID','Visit']].apply(lambda x: x[0] + \"_\" + x[1].replace(\" \", \"_\").replace(\"/\", \"\"), axis=1)\n",
    "mci = mci[['Subject ID', 'Age', 'Research Group', 'Image Filename']]\n",
    "print(\"AD\", len(ad), \"MCI\", len(mci))\n",
    "ad.to_csv(\"ad_70-100.csv\", index=False)\n",
    "mci.to_csv(\"mci_70-100.csv\", index=False)"
   ]
  },
  {
   "cell_type": "code",
   "execution_count": null,
   "metadata": {},
   "outputs": [],
   "source": []
  },
  {
   "cell_type": "code",
   "execution_count": null,
   "metadata": {},
   "outputs": [],
   "source": []
  }
 ],
 "metadata": {
  "kernelspec": {
   "name": "torch-dev",
   "display_name": "torch-dev",
   "language": "python"
  },
  "language_info": {
   "codemirror_mode": {
    "name": "ipython",
    "version": 3
   },
   "file_extension": ".py",
   "mimetype": "text/x-python",
   "name": "python",
   "nbconvert_exporter": "python",
   "pygments_lexer": "ipython3",
   "version": "3.6.9"
  }
 },
 "nbformat": 4,
 "nbformat_minor": 4
}