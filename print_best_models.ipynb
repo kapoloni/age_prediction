{
 "cells": [
  {
   "cell_type": "code",
   "execution_count": 1,
   "metadata": {},
   "outputs": [
    {
     "output_type": "stream",
     "name": "stderr",
     "text": [
      "/home/kpoloni/.local/lib/python3.6/site-packages/outdated/utils.py:18: OutdatedPackageWarning: The package pingouin is out of date. Your version is 0.3.11, the latest is 0.3.12.\nSet the environment variable OUTDATED_IGNORE=1 to disable these warnings.\n  **kwargs\n"
     ]
    }
   ],
   "source": [
    "import sys\n",
    "import os\n",
    "import torch\n",
    "import glob\n",
    "import pandas as pd\n",
    "import numpy as np\n",
    "import pingouin as pg\n",
    "from age_prediction.models.\\\n",
    "    efficientnet_pytorch_3d import EfficientNet3D as EfNetB0\n",
    "from age_prediction.metrics import MSE, MAE\n",
    "from age_prediction.trainer import ModuleTrainer\n",
    "from age_prediction.dataloader import MyDataLoader"
   ]
  },
  {
   "cell_type": "code",
   "execution_count": 2,
   "metadata": {},
   "outputs": [],
   "source": [
    "def check_state_dict(ck, md):\n",
    "    if ck.keys() == md.keys():\n",
    "        return ''\n",
    "    else:\n",
    "        split_key = list(ck.keys())[0].split(\n",
    "            list(md.keys())[0])[0]\n",
    "        return split_key\n",
    "\n",
    "def correct_state_dict(ck, split_key):\n",
    "    ck2 = {}\n",
    "    for k in ck.keys():\n",
    "        ck2[k.split(split_key)[1]] = ck[k]\n",
    "    return ck2\n",
    "\n",
    "def MAE_pred(y_pred, y_true):\n",
    "    mae = torch.nn.L1Loss(reduction='mean')(y_pred, y_true).cpu().detach().numpy().item()\n",
    "    return mae\n",
    "\n",
    "def MSE_pred(y_pred, y_true):\n",
    "    mse = torch.nn.MSELoss()(y_pred, y_true).cpu().detach().numpy().item()\n",
    "    return mse\n",
    "\n",
    "def delta_pred(y_pred, y_true):\n",
    "    delta = y_pred - y_true\n",
    "    return np.mean(delta)\n",
    "\n",
    "def pearson(y_pred, y_true):\n",
    "    return pg.corr(y_pred, y_true)['r'][0]\n"
   ]
  },
  {
   "cell_type": "code",
   "execution_count": 3,
   "metadata": {},
   "outputs": [],
   "source": [
    "def get_snapshot_results(side, snapshot, dropout_rate, testfile):\n",
    "    # Load effNet3D B0\n",
    "    model = EfNetB0.from_name(\"efficientnet-b0\",\n",
    "                              override_params={\n",
    "                                'num_classes': 1,\n",
    "                                'dropout_rate': dropout_rate\n",
    "                              },\n",
    "                              in_channels=1,\n",
    "                              )\n",
    "    device = torch.device('cpu')\n",
    "    model = model.to(device)\n",
    "\n",
    "    optimizer = torch.optim.RMSprop(model.parameters(),\n",
    "                                    lr=.256, alpha=0.9,\n",
    "                                    eps=1e-08, momentum=0.9,\n",
    "                                    weight_decay=0)\n",
    "\n",
    "    # print('Loading model from {}'.format(snapshot))\n",
    "    checkpoint = torch.load(snapshot, map_location=device)\n",
    "    split_key = check_state_dict(checkpoint['state_dict'], model.state_dict())\n",
    "    if split_key is not None:\n",
    "        checkpoint['state_dict'] = correct_state_dict(checkpoint['state_dict'], split_key)\n",
    "\n",
    "    model.load_state_dict(checkpoint['state_dict'])\n",
    "    optimizer.load_state_dict(checkpoint['optimizer'])\n",
    "    epoch = checkpoint['epoch']\n",
    "    _loss = checkpoint['loss']\n",
    "    _val_loss = checkpoint['val_loss']\n",
    "    # print(\"Snapshot trained for {} epochs. \\\n",
    "    #     Loss: {} and Val loss {}\".format(epoch, _loss, _val_loss))\n",
    "\n",
    "    loss = torch.nn.L1Loss(reduction='mean')\n",
    "    metrics = [MSE()]\n",
    "    \n",
    "    # Predict\n",
    "    trainer = ModuleTrainer(model.to(device))\n",
    "\n",
    "    trainer.compile(loss=loss,\n",
    "                    optimizer=optimizer,\n",
    "                    metrics=metrics)\n",
    "    \n",
    "    dataloader = MyDataLoader(database='../datasets',\n",
    "                              csv_data='database_split',\n",
    "                              side=side,\n",
    "                              batch=512,\n",
    "                              data_aug=False,\n",
    "                              test_file=testfile\n",
    "                              )\n",
    "    dataloader.prepare_data('test_label')\n",
    "    dataloader.setup('test_label')\n",
    "    \n",
    "    # print(\"Test size\", len(dataloader.test.inputs[0]))\n",
    "\n",
    "\n",
    "    pred = trainer.predict_loader(dataloader.testlabel_dataloader(),\n",
    "                                  cuda_device=False)\n",
    "    \n",
    "    imgs = dataloader.testpath\n",
    "    imgs = [img.split(\"/\")[-1].split(side)[0] for img in imgs]\n",
    "    \n",
    "    preds = pd.concat([pd.DataFrame(imgs),\n",
    "                       pd.DataFrame(dataloader.testlabel),\n",
    "                       pd.DataFrame(pred.detach().cpu().numpy())], axis=1)\n",
    "    preds.columns = ['Name', 'True', 'Pred']\n",
    "    \n",
    "    return preds, epoch\n",
    "\n",
    "def metrics_pipeline(preds):\n",
    "    mae = MAE_pred(torch.from_numpy(preds['Pred'].values),\n",
    "                   torch.from_numpy(preds['True'].values))\n",
    "    mse = MSE_pred(torch.from_numpy(preds['Pred'].values),\n",
    "                   torch.from_numpy(preds['True'].values))\n",
    "    delta = delta_pred(preds['Pred'],\n",
    "                       preds['True'])\n",
    "    r = pearson(preds['Pred'],\n",
    "                preds['True'])\n",
    "    # print(\"MAE\", mae)\n",
    "    # print(\"MSE\", mse)\n",
    "    # print(\"Delta\", delta)\n",
    "    # print(\"Pearson\", r)\n",
    "    return mae, mse, delta, r\n"
   ]
  },
  {
   "cell_type": "code",
   "execution_count": 4,
   "metadata": {},
   "outputs": [],
   "source": [
    "def train_results(logger, epoch):\n",
    "    df = pd.read_csv(logger)\n",
    "    col = df.columns[~df.columns.str.contains('val|epoch')]\n",
    "    df = df.loc[epoch - 1, col]\n",
    "    # order mae, mse\n",
    "    if any(df.index.str.contains('mae')):\n",
    "        mae = df['mae_metric']\n",
    "        mse = df['loss']\n",
    "    else:\n",
    "        mae = df['loss']\n",
    "        mse = df['mse_metric']\n",
    "    return mae, mse"
   ]
  },
  {
   "cell_type": "code",
   "execution_count": 5,
   "metadata": {},
   "outputs": [],
   "source": [
    "def organize_results(res, type, dp, ep=None, age=None, side=None):\n",
    "    if age is not None:\n",
    "        df = {'side': side, 'age': age}\n",
    "        if ep is not None:\n",
    "            df['epoch'] = ep\n",
    "        df['mae_' + type] = res[0]\n",
    "        df['mse_' + type] = res[1]\n",
    "    else:\n",
    "        df = {'mae_' + type: res[0], 'mse_' + type: res[1]}\n",
    "    if type != 'train':\n",
    "        _, _, delta, r = res\n",
    "        df['delta_' + type] = delta\n",
    "        df['r_' + type] = r   \n",
    "\n",
    "    return pd.DataFrame(df, index=[dp])\n"
   ]
  },
  {
   "cell_type": "code",
   "execution_count": 32,
   "metadata": {},
   "outputs": [],
   "source": [
    "def get_results(side, age, date):\n",
    "    results = pd.DataFrame()\n",
    "    for ckpt in glob.glob('outputs/ckpt_'+date+'*'):\n",
    "        if age in ckpt and side+\"_\" in ckpt:\n",
    "            # if 'best' in ckpt:\n",
    "            # print(ckpt)\n",
    "            dropout_rate = float(ckpt.split(\"_dp\")[-1].split(\"_\")[0])\n",
    "            # print(dropout_rate)\n",
    "            delim = ckpt.split(\"_model\")[-1]\n",
    "            delim = delim.split(\"_clr\")[0]\n",
    "            delim = '_model' + delim\n",
    "            # else:\n",
    "            #     dropout_rate = float(ckpt.split(\"_dp\")[-1].split(\".pt\")[0])\n",
    "            #     delim = ckpt.split(\"_model\")[-1]\n",
    "            #     delim = delim.split(\"_clr\")[0]\n",
    "            #     delim = '_model' + delim\n",
    "                # delim = \".pth.tar\"\n",
    "            # val\n",
    "            pred, epoch = get_snapshot_results(side, ckpt, dropout_rate, 'val_'+age+'.csv')\n",
    "            # print(pred)\n",
    "            val = organize_results(metrics_pipeline(pred), 'val', dropout_rate)\n",
    "            # print(\"TEST\")\n",
    "            pred, epoch = get_snapshot_results(side, ckpt, dropout_rate, 'test_'+age+'.csv')\n",
    "            test = organize_results(metrics_pipeline(pred), 'test', dropout_rate)\n",
    "            train = organize_results(train_results(ckpt.replace(\"ckpt\", \"logger\").replace(delim, \"\").replace('pth.tar', \"csv\"),\n",
    "                                                    epoch), 'train', dropout_rate, epoch,\n",
    "                                                        age, side.split(\"_\")[-1])\n",
    "            df = pd.concat([train, val, test], axis=1)\n",
    "            results = pd.concat([results, df])\n",
    "    return results.sort_index()\n"
   ]
  },
  {
   "cell_type": "code",
   "execution_count": 34,
   "metadata": {},
   "outputs": [
    {
     "output_type": "execute_result",
     "data": {
      "text/plain": [
       "    side   age  epoch  mae_train  mse_train   mae_val    mse_val  delta_val  \\\n",
       "0.2    L  0-70    150   1.986279   9.499743  5.187126  41.890665   0.147857   \n",
       "0.2    L  0-70    128   1.932288   8.872488  4.897276  41.366996   0.670742   \n",
       "0.3    L  0-70    117   2.572101  16.870135  4.801819  39.563506   0.489273   \n",
       "0.3    L  0-70    150   2.319759  15.299052  6.821399  79.840302  -4.527395   \n",
       "0.2    R  0-70    150   1.836378   9.284750  5.145741  42.630593   1.351717   \n",
       "0.2    R  0-70    142   1.010131   3.704384  4.239758  33.757902  -0.038412   \n",
       "0.3    R  0-70    150   2.833590  18.512848  6.273497  69.000875  -2.370222   \n",
       "0.3    R  0-70    141   1.111302   3.421316  4.371371  35.207645  -1.783119   \n",
       "0.3    R  0-70    150   2.109565   9.987780  5.094696  49.219104  -2.525185   \n",
       "0.3    R  0-70    146   2.460355  14.924532  4.583209  43.053108   0.171092   \n",
       "\n",
       "        r_val  mae_test   mse_test  delta_test    r_test  \n",
       "0.2  0.907238  3.903913  47.558564    1.550805  0.900504  \n",
       "0.2  0.907523  3.848328  37.931828    1.254042  0.921906  \n",
       "0.3  0.915197  4.799713  54.371019    0.831815  0.891389  \n",
       "0.3  0.874797  5.885425  53.074698   -4.659743  0.939211  \n",
       "0.2  0.906328  4.843258  41.649174    0.667256  0.912339  \n",
       "0.2  0.923164  4.757565  37.504958   -1.344195  0.925733  \n",
       "0.3  0.849906  4.835602  35.002123   -1.885605  0.934848  \n",
       "0.3  0.927245  4.477172  37.038610   -1.470853  0.925262  \n",
       "0.3  0.902272  5.006952  44.127029   -1.057576  0.909794  \n",
       "0.3  0.902073  5.080443  59.881354    1.152872  0.875610  "
      ],
      "text/html": "<div>\n<style scoped>\n    .dataframe tbody tr th:only-of-type {\n        vertical-align: middle;\n    }\n\n    .dataframe tbody tr th {\n        vertical-align: top;\n    }\n\n    .dataframe thead th {\n        text-align: right;\n    }\n</style>\n<table border=\"1\" class=\"dataframe\">\n  <thead>\n    <tr style=\"text-align: right;\">\n      <th></th>\n      <th>side</th>\n      <th>age</th>\n      <th>epoch</th>\n      <th>mae_train</th>\n      <th>mse_train</th>\n      <th>mae_val</th>\n      <th>mse_val</th>\n      <th>delta_val</th>\n      <th>r_val</th>\n      <th>mae_test</th>\n      <th>mse_test</th>\n      <th>delta_test</th>\n      <th>r_test</th>\n    </tr>\n  </thead>\n  <tbody>\n    <tr>\n      <th>0.2</th>\n      <td>L</td>\n      <td>0-70</td>\n      <td>150</td>\n      <td>1.986279</td>\n      <td>9.499743</td>\n      <td>5.187126</td>\n      <td>41.890665</td>\n      <td>0.147857</td>\n      <td>0.907238</td>\n      <td>3.903913</td>\n      <td>47.558564</td>\n      <td>1.550805</td>\n      <td>0.900504</td>\n    </tr>\n    <tr>\n      <th>0.2</th>\n      <td>L</td>\n      <td>0-70</td>\n      <td>128</td>\n      <td>1.932288</td>\n      <td>8.872488</td>\n      <td>4.897276</td>\n      <td>41.366996</td>\n      <td>0.670742</td>\n      <td>0.907523</td>\n      <td>3.848328</td>\n      <td>37.931828</td>\n      <td>1.254042</td>\n      <td>0.921906</td>\n    </tr>\n    <tr>\n      <th>0.3</th>\n      <td>L</td>\n      <td>0-70</td>\n      <td>117</td>\n      <td>2.572101</td>\n      <td>16.870135</td>\n      <td>4.801819</td>\n      <td>39.563506</td>\n      <td>0.489273</td>\n      <td>0.915197</td>\n      <td>4.799713</td>\n      <td>54.371019</td>\n      <td>0.831815</td>\n      <td>0.891389</td>\n    </tr>\n    <tr>\n      <th>0.3</th>\n      <td>L</td>\n      <td>0-70</td>\n      <td>150</td>\n      <td>2.319759</td>\n      <td>15.299052</td>\n      <td>6.821399</td>\n      <td>79.840302</td>\n      <td>-4.527395</td>\n      <td>0.874797</td>\n      <td>5.885425</td>\n      <td>53.074698</td>\n      <td>-4.659743</td>\n      <td>0.939211</td>\n    </tr>\n    <tr>\n      <th>0.2</th>\n      <td>R</td>\n      <td>0-70</td>\n      <td>150</td>\n      <td>1.836378</td>\n      <td>9.284750</td>\n      <td>5.145741</td>\n      <td>42.630593</td>\n      <td>1.351717</td>\n      <td>0.906328</td>\n      <td>4.843258</td>\n      <td>41.649174</td>\n      <td>0.667256</td>\n      <td>0.912339</td>\n    </tr>\n    <tr>\n      <th>0.2</th>\n      <td>R</td>\n      <td>0-70</td>\n      <td>142</td>\n      <td>1.010131</td>\n      <td>3.704384</td>\n      <td>4.239758</td>\n      <td>33.757902</td>\n      <td>-0.038412</td>\n      <td>0.923164</td>\n      <td>4.757565</td>\n      <td>37.504958</td>\n      <td>-1.344195</td>\n      <td>0.925733</td>\n    </tr>\n    <tr>\n      <th>0.3</th>\n      <td>R</td>\n      <td>0-70</td>\n      <td>150</td>\n      <td>2.833590</td>\n      <td>18.512848</td>\n      <td>6.273497</td>\n      <td>69.000875</td>\n      <td>-2.370222</td>\n      <td>0.849906</td>\n      <td>4.835602</td>\n      <td>35.002123</td>\n      <td>-1.885605</td>\n      <td>0.934848</td>\n    </tr>\n    <tr>\n      <th>0.3</th>\n      <td>R</td>\n      <td>0-70</td>\n      <td>141</td>\n      <td>1.111302</td>\n      <td>3.421316</td>\n      <td>4.371371</td>\n      <td>35.207645</td>\n      <td>-1.783119</td>\n      <td>0.927245</td>\n      <td>4.477172</td>\n      <td>37.038610</td>\n      <td>-1.470853</td>\n      <td>0.925262</td>\n    </tr>\n    <tr>\n      <th>0.3</th>\n      <td>R</td>\n      <td>0-70</td>\n      <td>150</td>\n      <td>2.109565</td>\n      <td>9.987780</td>\n      <td>5.094696</td>\n      <td>49.219104</td>\n      <td>-2.525185</td>\n      <td>0.902272</td>\n      <td>5.006952</td>\n      <td>44.127029</td>\n      <td>-1.057576</td>\n      <td>0.909794</td>\n    </tr>\n    <tr>\n      <th>0.3</th>\n      <td>R</td>\n      <td>0-70</td>\n      <td>146</td>\n      <td>2.460355</td>\n      <td>14.924532</td>\n      <td>4.583209</td>\n      <td>43.053108</td>\n      <td>0.171092</td>\n      <td>0.902073</td>\n      <td>5.080443</td>\n      <td>59.881354</td>\n      <td>1.152872</td>\n      <td>0.875610</td>\n    </tr>\n  </tbody>\n</table>\n</div>"
     },
     "metadata": {},
     "execution_count": 34
    }
   ],
   "source": [
    "res_R = get_results('_R', '0-70', '10-06-2021')\n",
    "res_L = get_results('_L', '0-70', '10-06-2021')\n",
    "results = pd.concat([res_L, res_R])\n",
    "results\n"
   ]
  },
  {
   "cell_type": "code",
   "execution_count": 9,
   "metadata": {},
   "outputs": [],
   "source": [
    "results.to_csv('predict_results/metrics_0-70.csv')"
   ]
  },
  {
   "cell_type": "code",
   "execution_count": 8,
   "metadata": {},
   "outputs": [
    {
     "output_type": "stream",
     "name": "stdout",
     "text": [
      "Test size 151\n",
      "Test size 151\n",
      "Test size 151\n",
      "Test size 151\n",
      "Test size 151\n",
      "Test size 151\n",
      "Test size 151\n",
      "Test size 151\n"
     ]
    },
    {
     "output_type": "execute_result",
     "data": {
      "text/plain": [
       "    side     age  epoch  mae_train    mse_train   mae_val    mse_val  \\\n",
       "0.2    L  70-100     22   5.412542    45.607456  3.339176  17.546778   \n",
       "0.3    L  70-100     12   6.991100    70.692521  3.600096  18.229512   \n",
       "0.2    R  70-100     33   5.314347    45.219057  3.889771  22.377662   \n",
       "0.3    R  70-100      6  48.832000  3930.888534  4.056024  22.660267   \n",
       "\n",
       "     delta_val     r_val  mae_test   mse_test  delta_test    r_test  \n",
       "0.2  -0.240355  0.434532  3.476039  19.819592   -1.019994  0.323410  \n",
       "0.3  -0.513932  0.194589  3.520462  17.580773   -0.578576  0.262749  \n",
       "0.2   2.363966  0.336537  3.871664  21.090473    1.734730  0.283575  \n",
       "0.3   1.859860 -0.068574  3.885455  20.190156    1.700866  0.096561  "
      ],
      "text/html": "<div>\n<style scoped>\n    .dataframe tbody tr th:only-of-type {\n        vertical-align: middle;\n    }\n\n    .dataframe tbody tr th {\n        vertical-align: top;\n    }\n\n    .dataframe thead th {\n        text-align: right;\n    }\n</style>\n<table border=\"1\" class=\"dataframe\">\n  <thead>\n    <tr style=\"text-align: right;\">\n      <th></th>\n      <th>side</th>\n      <th>age</th>\n      <th>epoch</th>\n      <th>mae_train</th>\n      <th>mse_train</th>\n      <th>mae_val</th>\n      <th>mse_val</th>\n      <th>delta_val</th>\n      <th>r_val</th>\n      <th>mae_test</th>\n      <th>mse_test</th>\n      <th>delta_test</th>\n      <th>r_test</th>\n    </tr>\n  </thead>\n  <tbody>\n    <tr>\n      <th>0.2</th>\n      <td>L</td>\n      <td>70-100</td>\n      <td>22</td>\n      <td>5.412542</td>\n      <td>45.607456</td>\n      <td>3.339176</td>\n      <td>17.546778</td>\n      <td>-0.240355</td>\n      <td>0.434532</td>\n      <td>3.476039</td>\n      <td>19.819592</td>\n      <td>-1.019994</td>\n      <td>0.323410</td>\n    </tr>\n    <tr>\n      <th>0.3</th>\n      <td>L</td>\n      <td>70-100</td>\n      <td>12</td>\n      <td>6.991100</td>\n      <td>70.692521</td>\n      <td>3.600096</td>\n      <td>18.229512</td>\n      <td>-0.513932</td>\n      <td>0.194589</td>\n      <td>3.520462</td>\n      <td>17.580773</td>\n      <td>-0.578576</td>\n      <td>0.262749</td>\n    </tr>\n    <tr>\n      <th>0.2</th>\n      <td>R</td>\n      <td>70-100</td>\n      <td>33</td>\n      <td>5.314347</td>\n      <td>45.219057</td>\n      <td>3.889771</td>\n      <td>22.377662</td>\n      <td>2.363966</td>\n      <td>0.336537</td>\n      <td>3.871664</td>\n      <td>21.090473</td>\n      <td>1.734730</td>\n      <td>0.283575</td>\n    </tr>\n    <tr>\n      <th>0.3</th>\n      <td>R</td>\n      <td>70-100</td>\n      <td>6</td>\n      <td>48.832000</td>\n      <td>3930.888534</td>\n      <td>4.056024</td>\n      <td>22.660267</td>\n      <td>1.859860</td>\n      <td>-0.068574</td>\n      <td>3.885455</td>\n      <td>20.190156</td>\n      <td>1.700866</td>\n      <td>0.096561</td>\n    </tr>\n  </tbody>\n</table>\n</div>"
     },
     "metadata": {},
     "execution_count": 8
    }
   ],
   "source": [
    "res_R = get_results('_R', '70-100', '27-05-2021')\n",
    "res_L = get_results('_L', '70-100', '27-05-2021')\n",
    "results = pd.concat([res_L, res_R])\n",
    "results"
   ]
  },
  {
   "cell_type": "code",
   "execution_count": null,
   "metadata": {},
   "outputs": [],
   "source": []
  }
 ],
 "metadata": {
  "kernelspec": {
   "name": "torch-dev",
   "display_name": "torch-dev",
   "language": "python"
  },
  "language_info": {
   "codemirror_mode": {
    "name": "ipython",
    "version": 3
   },
   "file_extension": ".py",
   "mimetype": "text/x-python",
   "name": "python",
   "nbconvert_exporter": "python",
   "pygments_lexer": "ipython3",
   "version": "3.6.9"
  }
 },
 "nbformat": 4,
 "nbformat_minor": 4
}