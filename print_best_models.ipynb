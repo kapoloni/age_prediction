{
 "cells": [
  {
   "cell_type": "code",
   "execution_count": 1,
   "metadata": {},
   "outputs": [
    {
     "output_type": "stream",
     "name": "stderr",
     "text": [
      "/home/kpoloni/.local/lib/python3.6/site-packages/outdated/utils.py:18: OutdatedPackageWarning: The package pingouin is out of date. Your version is 0.3.11, the latest is 0.3.12.\nSet the environment variable OUTDATED_IGNORE=1 to disable these warnings.\n  **kwargs\n"
     ]
    }
   ],
   "source": [
    "import sys\n",
    "import os\n",
    "import torch\n",
    "import glob\n",
    "import pandas as pd\n",
    "import numpy as np\n",
    "import pingouin as pg\n",
    "from age_prediction.models.\\\n",
    "    efficientnet_pytorch_3d import EfficientNet3D as EfNetB0\n",
    "from age_prediction.metrics import MSE, MAE\n",
    "from age_prediction.trainer import ModuleTrainer\n",
    "from age_prediction.dataloader import MyDataLoader"
   ]
  },
  {
   "cell_type": "code",
   "execution_count": 2,
   "metadata": {},
   "outputs": [],
   "source": [
    "def check_state_dict(ck, md):\n",
    "    if ck.keys() == md.keys():\n",
    "        return ''\n",
    "    else:\n",
    "        split_key = list(ck.keys())[0].split(\n",
    "            list(md.keys())[0])[0]\n",
    "        return split_key\n",
    "\n",
    "def correct_state_dict(ck, split_key):\n",
    "    ck2 = {}\n",
    "    for k in ck.keys():\n",
    "        ck2[k.split(split_key)[1]] = ck[k]\n",
    "    return ck2\n",
    "\n",
    "def MAE_pred(y_pred, y_true):\n",
    "    mae = torch.nn.L1Loss(reduction='mean')(y_pred, y_true).cpu().detach().numpy().item()\n",
    "    return mae\n",
    "\n",
    "def MSE_pred(y_pred, y_true):\n",
    "    mse = torch.nn.MSELoss()(y_pred, y_true).cpu().detach().numpy().item()\n",
    "    return mse\n",
    "\n",
    "def delta_pred(y_pred, y_true):\n",
    "    delta = y_pred - y_true\n",
    "    return np.mean(delta)\n",
    "\n",
    "def pearson(y_pred, y_true):\n",
    "    return pg.corr(y_pred, y_true)['r'][0]\n"
   ]
  },
  {
   "cell_type": "code",
   "execution_count": 3,
   "metadata": {},
   "outputs": [],
   "source": [
    "def get_snapshot_results(side, snapshot, dropout_rate, testfile):\n",
    "    # Load effNet3D B0\n",
    "    model = EfNetB0.from_name(\"efficientnet-b0\",\n",
    "                              override_params={\n",
    "                                'num_classes': 1,\n",
    "                                'dropout_rate': dropout_rate\n",
    "                              },\n",
    "                              in_channels=1,\n",
    "                              )\n",
    "    device = torch.device('cpu')\n",
    "    model = model.to(device)\n",
    "\n",
    "    optimizer = torch.optim.RMSprop(model.parameters(),\n",
    "                                    lr=.256, alpha=0.9,\n",
    "                                    eps=1e-08, momentum=0.9,\n",
    "                                    weight_decay=0)\n",
    "\n",
    "    # print('Loading model from {}'.format(snapshot))\n",
    "    checkpoint = torch.load(snapshot, map_location=device)\n",
    "    split_key = check_state_dict(checkpoint['state_dict'], model.state_dict())\n",
    "    if split_key is not None:\n",
    "        checkpoint['state_dict'] = correct_state_dict(checkpoint['state_dict'], split_key)\n",
    "\n",
    "    model.load_state_dict(checkpoint['state_dict'])\n",
    "    optimizer.load_state_dict(checkpoint['optimizer'])\n",
    "    epoch = checkpoint['epoch']\n",
    "    _loss = checkpoint['loss']\n",
    "    _val_loss = checkpoint['val_loss']\n",
    "    # print(\"Snapshot trained for {} epochs. \\\n",
    "    #     Loss: {} and Val loss {}\".format(epoch, _loss, _val_loss))\n",
    "\n",
    "    loss = torch.nn.L1Loss(reduction='mean')\n",
    "    metrics = [MSE()]\n",
    "    \n",
    "    # Predict\n",
    "    trainer = ModuleTrainer(model.to(device))\n",
    "\n",
    "    trainer.compile(loss=loss,\n",
    "                    optimizer=optimizer,\n",
    "                    metrics=metrics)\n",
    "    \n",
    "    dataloader = MyDataLoader(database='../datasets',\n",
    "                              csv_data='database_split',\n",
    "                              side=side,\n",
    "                              batch=512,\n",
    "                              data_aug=False,\n",
    "                              test_file=testfile\n",
    "                              )\n",
    "    dataloader.prepare_data('test_label')\n",
    "    dataloader.setup('test_label')\n",
    "    \n",
    "    # print(\"Test size\", len(dataloader.test.inputs[0]))\n",
    "\n",
    "\n",
    "    pred = trainer.predict_loader(dataloader.testlabel_dataloader(),\n",
    "                                  cuda_device=False)\n",
    "    \n",
    "    imgs = dataloader.testpath\n",
    "    imgs = [img.split(\"/\")[-1].split(side)[0] for img in imgs]\n",
    "    \n",
    "    preds = pd.concat([pd.DataFrame(imgs),\n",
    "                       pd.DataFrame(dataloader.testlabel),\n",
    "                       pd.DataFrame(pred.detach().cpu().numpy())], axis=1)\n",
    "    preds.columns = ['Name', 'True', 'Pred']\n",
    "    \n",
    "    return preds, epoch\n",
    "\n",
    "def metrics_pipeline(preds):\n",
    "    mae = MAE_pred(torch.from_numpy(preds['Pred'].values),\n",
    "                   torch.from_numpy(preds['True'].values))\n",
    "    mse = MSE_pred(torch.from_numpy(preds['Pred'].values),\n",
    "                   torch.from_numpy(preds['True'].values))\n",
    "    delta = delta_pred(preds['Pred'],\n",
    "                       preds['True'])\n",
    "    r = pearson(preds['Pred'],\n",
    "                preds['True'])\n",
    "    # print(\"MAE\", mae)\n",
    "    # print(\"MSE\", mse)\n",
    "    # print(\"Delta\", delta)\n",
    "    # print(\"Pearson\", r)\n",
    "    return mae, mse, delta, r\n"
   ]
  },
  {
   "cell_type": "code",
   "execution_count": 4,
   "metadata": {},
   "outputs": [],
   "source": [
    "def train_results(logger, epoch):\n",
    "    df = pd.read_csv(logger)\n",
    "    col = df.columns[~df.columns.str.contains('val|epoch')]\n",
    "    df = df.loc[epoch - 1, col]\n",
    "    # order mae, mse\n",
    "    if any(df.index.str.contains('mae')):\n",
    "        mae = df['mae_metric']\n",
    "        mse = df['loss']\n",
    "    else:\n",
    "        mae = df['loss']\n",
    "        mse = df['mse_metric']\n",
    "    return mae, mse"
   ]
  },
  {
   "cell_type": "code",
   "execution_count": 5,
   "metadata": {},
   "outputs": [],
   "source": [
    "def organize_results(res, type, dp, ep=None, age=None, side=None):\n",
    "    if age is not None:\n",
    "        df = {'side': side, 'age': age}\n",
    "        if ep is not None:\n",
    "            df['epoch'] = ep\n",
    "        df['mae_' + type] = res[0]\n",
    "        df['mse_' + type] = res[1]\n",
    "    else:\n",
    "        df = {'mae_' + type: res[0], 'mse_' + type: res[1]}\n",
    "    if type != 'train':\n",
    "        _, _, delta, r = res\n",
    "        df['delta_' + type] = delta\n",
    "        df['r_' + type] = r   \n",
    "\n",
    "    return pd.DataFrame(df, index=[dp])\n"
   ]
  },
  {
   "cell_type": "code",
   "execution_count": 11,
   "metadata": {},
   "outputs": [],
   "source": [
    "def get_results(side, age, date):\n",
    "    results = pd.DataFrame()\n",
    "    for ckpt in glob.glob('outputs/ckpt_'+date+'*'):\n",
    "        if age in ckpt and side+\"_\" in ckpt:\n",
    "            # if 'best' in ckpt:\n",
    "            # print(ckpt)\n",
    "            dropout_rate = float(ckpt.split(\"_dp\")[-1].split(\"_\")[0])\n",
    "            # print(dropout_rate)\n",
    "            delim = ckpt.split(\"_model\")[-1]\n",
    "            delim = delim.split(\"_clr\")[0]\n",
    "            delim = '_model' + delim\n",
    "            # else:\n",
    "            #     dropout_rate = float(ckpt.split(\"_dp\")[-1].split(\".pt\")[0])\n",
    "            #     delim = ckpt.split(\"_model\")[-1]\n",
    "            #     delim = delim.split(\"_clr\")[0]\n",
    "            #     delim = '_model' + delim\n",
    "                # delim = \".pth.tar\"\n",
    "            # val\n",
    "            pred, epoch = get_snapshot_results(side, ckpt, dropout_rate, 'val_'+age+'.csv')\n",
    "            # print(pred)\n",
    "            val = organize_results(metrics_pipeline(pred), 'val', dropout_rate)\n",
    "            # print(\"TEST\")\n",
    "            pred, epoch = get_snapshot_results(side, ckpt, dropout_rate, 'test_'+age+'.csv')\n",
    "            test = organize_results(metrics_pipeline(pred), 'test', dropout_rate)\n",
    "            train = organize_results(train_results(ckpt.replace(\"ckpt\", \"logger\").replace(delim, \"\").replace('pth.tar', \"csv\"),\n",
    "                                                    epoch), 'train', dropout_rate, epoch,\n",
    "                                                        age, side.split(\"_\")[-1])\n",
    "            df = pd.concat([train, val, test], axis=1)\n",
    "            results = pd.concat([results, df])\n",
    "    return results.sort_index()\n"
   ]
  },
  {
   "cell_type": "code",
   "execution_count": 14,
   "metadata": {},
   "outputs": [
    {
     "output_type": "execute_result",
     "data": {
      "text/plain": [
       "    side     age  epoch  mae_train  mse_train   mae_val    mse_val  delta_val  \\\n",
       "0.2    L  70-100     80   1.617285   4.468334  4.362982  32.031043   0.871396   \n",
       "0.2    L  70-100    100   1.293031   3.455635  5.785848  49.316305   3.817043   \n",
       "0.2    R  70-100    100   1.309929   2.962685  5.084044  42.371272   3.815696   \n",
       "0.2    R  70-100     61   0.853568   1.442674  4.305229  28.469070   2.028653   \n",
       "\n",
       "        r_val  mae_test   mse_test  delta_test    r_test  \n",
       "0.2  0.211786  3.625911  22.420263   -0.023753  0.386211  \n",
       "0.2  0.283984  5.556869  46.254741    3.022629  0.237073  \n",
       "0.2  0.321425  4.370785  30.700501    2.828327  0.361822  \n",
       "0.2  0.367246  3.705640  22.235257    0.936852  0.362152  "
      ],
      "text/html": "<div>\n<style scoped>\n    .dataframe tbody tr th:only-of-type {\n        vertical-align: middle;\n    }\n\n    .dataframe tbody tr th {\n        vertical-align: top;\n    }\n\n    .dataframe thead th {\n        text-align: right;\n    }\n</style>\n<table border=\"1\" class=\"dataframe\">\n  <thead>\n    <tr style=\"text-align: right;\">\n      <th></th>\n      <th>side</th>\n      <th>age</th>\n      <th>epoch</th>\n      <th>mae_train</th>\n      <th>mse_train</th>\n      <th>mae_val</th>\n      <th>mse_val</th>\n      <th>delta_val</th>\n      <th>r_val</th>\n      <th>mae_test</th>\n      <th>mse_test</th>\n      <th>delta_test</th>\n      <th>r_test</th>\n    </tr>\n  </thead>\n  <tbody>\n    <tr>\n      <th>0.2</th>\n      <td>L</td>\n      <td>70-100</td>\n      <td>80</td>\n      <td>1.617285</td>\n      <td>4.468334</td>\n      <td>4.362982</td>\n      <td>32.031043</td>\n      <td>0.871396</td>\n      <td>0.211786</td>\n      <td>3.625911</td>\n      <td>22.420263</td>\n      <td>-0.023753</td>\n      <td>0.386211</td>\n    </tr>\n    <tr>\n      <th>0.2</th>\n      <td>L</td>\n      <td>70-100</td>\n      <td>100</td>\n      <td>1.293031</td>\n      <td>3.455635</td>\n      <td>5.785848</td>\n      <td>49.316305</td>\n      <td>3.817043</td>\n      <td>0.283984</td>\n      <td>5.556869</td>\n      <td>46.254741</td>\n      <td>3.022629</td>\n      <td>0.237073</td>\n    </tr>\n    <tr>\n      <th>0.2</th>\n      <td>R</td>\n      <td>70-100</td>\n      <td>100</td>\n      <td>1.309929</td>\n      <td>2.962685</td>\n      <td>5.084044</td>\n      <td>42.371272</td>\n      <td>3.815696</td>\n      <td>0.321425</td>\n      <td>4.370785</td>\n      <td>30.700501</td>\n      <td>2.828327</td>\n      <td>0.361822</td>\n    </tr>\n    <tr>\n      <th>0.2</th>\n      <td>R</td>\n      <td>70-100</td>\n      <td>61</td>\n      <td>0.853568</td>\n      <td>1.442674</td>\n      <td>4.305229</td>\n      <td>28.469070</td>\n      <td>2.028653</td>\n      <td>0.367246</td>\n      <td>3.705640</td>\n      <td>22.235257</td>\n      <td>0.936852</td>\n      <td>0.362152</td>\n    </tr>\n  </tbody>\n</table>\n</div>"
     },
     "metadata": {},
     "execution_count": 14
    }
   ],
   "source": [
    "res_R = get_results('_R', '70-100', '17-06-2021')\n",
    "res_L = get_results('_L', '70-100', '17-06-2021')\n",
    "\n",
    "results = pd.concat([res_L, res_R])\n",
    "results"
   ]
  },
  {
   "cell_type": "code",
   "execution_count": 9,
   "metadata": {},
   "outputs": [],
   "source": [
    "results.to_csv('predict_results/metrics_0-70.csv')"
   ]
  },
  {
   "cell_type": "code",
   "execution_count": 8,
   "metadata": {},
   "outputs": [
    {
     "output_type": "stream",
     "name": "stdout",
     "text": [
      "Test size 151\n",
      "Test size 151\n",
      "Test size 151\n",
      "Test size 151\n",
      "Test size 151\n",
      "Test size 151\n",
      "Test size 151\n",
      "Test size 151\n"
     ]
    },
    {
     "output_type": "execute_result",
     "data": {
      "text/plain": [
       "    side     age  epoch  mae_train    mse_train   mae_val    mse_val  \\\n",
       "0.2    L  70-100     22   5.412542    45.607456  3.339176  17.546778   \n",
       "0.3    L  70-100     12   6.991100    70.692521  3.600096  18.229512   \n",
       "0.2    R  70-100     33   5.314347    45.219057  3.889771  22.377662   \n",
       "0.3    R  70-100      6  48.832000  3930.888534  4.056024  22.660267   \n",
       "\n",
       "     delta_val     r_val  mae_test   mse_test  delta_test    r_test  \n",
       "0.2  -0.240355  0.434532  3.476039  19.819592   -1.019994  0.323410  \n",
       "0.3  -0.513932  0.194589  3.520462  17.580773   -0.578576  0.262749  \n",
       "0.2   2.363966  0.336537  3.871664  21.090473    1.734730  0.283575  \n",
       "0.3   1.859860 -0.068574  3.885455  20.190156    1.700866  0.096561  "
      ],
      "text/html": "<div>\n<style scoped>\n    .dataframe tbody tr th:only-of-type {\n        vertical-align: middle;\n    }\n\n    .dataframe tbody tr th {\n        vertical-align: top;\n    }\n\n    .dataframe thead th {\n        text-align: right;\n    }\n</style>\n<table border=\"1\" class=\"dataframe\">\n  <thead>\n    <tr style=\"text-align: right;\">\n      <th></th>\n      <th>side</th>\n      <th>age</th>\n      <th>epoch</th>\n      <th>mae_train</th>\n      <th>mse_train</th>\n      <th>mae_val</th>\n      <th>mse_val</th>\n      <th>delta_val</th>\n      <th>r_val</th>\n      <th>mae_test</th>\n      <th>mse_test</th>\n      <th>delta_test</th>\n      <th>r_test</th>\n    </tr>\n  </thead>\n  <tbody>\n    <tr>\n      <th>0.2</th>\n      <td>L</td>\n      <td>70-100</td>\n      <td>22</td>\n      <td>5.412542</td>\n      <td>45.607456</td>\n      <td>3.339176</td>\n      <td>17.546778</td>\n      <td>-0.240355</td>\n      <td>0.434532</td>\n      <td>3.476039</td>\n      <td>19.819592</td>\n      <td>-1.019994</td>\n      <td>0.323410</td>\n    </tr>\n    <tr>\n      <th>0.3</th>\n      <td>L</td>\n      <td>70-100</td>\n      <td>12</td>\n      <td>6.991100</td>\n      <td>70.692521</td>\n      <td>3.600096</td>\n      <td>18.229512</td>\n      <td>-0.513932</td>\n      <td>0.194589</td>\n      <td>3.520462</td>\n      <td>17.580773</td>\n      <td>-0.578576</td>\n      <td>0.262749</td>\n    </tr>\n    <tr>\n      <th>0.2</th>\n      <td>R</td>\n      <td>70-100</td>\n      <td>33</td>\n      <td>5.314347</td>\n      <td>45.219057</td>\n      <td>3.889771</td>\n      <td>22.377662</td>\n      <td>2.363966</td>\n      <td>0.336537</td>\n      <td>3.871664</td>\n      <td>21.090473</td>\n      <td>1.734730</td>\n      <td>0.283575</td>\n    </tr>\n    <tr>\n      <th>0.3</th>\n      <td>R</td>\n      <td>70-100</td>\n      <td>6</td>\n      <td>48.832000</td>\n      <td>3930.888534</td>\n      <td>4.056024</td>\n      <td>22.660267</td>\n      <td>1.859860</td>\n      <td>-0.068574</td>\n      <td>3.885455</td>\n      <td>20.190156</td>\n      <td>1.700866</td>\n      <td>0.096561</td>\n    </tr>\n  </tbody>\n</table>\n</div>"
     },
     "metadata": {},
     "execution_count": 8
    }
   ],
   "source": [
    "res_R = get_results('_R', '70-100', '27-05-2021')\n",
    "res_L = get_results('_L', '70-100', '27-05-2021')\n",
    "results = pd.concat([res_L, res_R])\n",
    "results"
   ]
  },
  {
   "cell_type": "code",
   "execution_count": null,
   "metadata": {},
   "outputs": [],
   "source": []
  }
 ],
 "metadata": {
  "kernelspec": {
   "name": "torch-dev",
   "display_name": "torch-dev",
   "language": "python"
  },
  "language_info": {
   "codemirror_mode": {
    "name": "ipython",
    "version": 3
   },
   "file_extension": ".py",
   "mimetype": "text/x-python",
   "name": "python",
   "nbconvert_exporter": "python",
   "pygments_lexer": "ipython3",
   "version": "3.6.9"
  }
 },
 "nbformat": 4,
 "nbformat_minor": 4
}