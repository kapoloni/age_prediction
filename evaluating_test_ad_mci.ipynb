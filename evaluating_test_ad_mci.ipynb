{
 "cells": [
  {
   "cell_type": "code",
   "execution_count": 2,
   "metadata": {},
   "outputs": [],
   "source": [
    "import os\n",
    "import torch\n",
    "import pandas as pd\n",
    "import torch.nn as nn\n",
    "import numpy as np\n",
    "from age_prediction.models.\\\n",
    "    efficientnet_pytorch_3d import EfficientNet3D as EfNetB0\n",
    "from age_prediction.dataloader import MyDataLoader\n",
    "from age_prediction.trainer import ModuleTrainer\n",
    "from age_prediction.metrics import MSE, MAE\n",
    "\n",
    "import scipy.stats\n",
    "import seaborn as sns\n",
    "import matplotlib.pyplot as plt\n",
    "%matplotlib inline"
   ]
  },
  {
   "cell_type": "code",
   "execution_count": 3,
   "metadata": {},
   "outputs": [],
   "source": [
    "def MAE_pred(y_pred, y_true):\n",
    "    mae = nn.L1Loss(reduction='mean')(y_pred, y_true).cpu().detach().numpy().item()\n",
    "    return mae\n",
    "def MSE_pred(y_pred, y_true):\n",
    "    mse = nn.MSELoss()(y_pred, y_true).cpu().detach().numpy().item()\n",
    "    return mse\n",
    "def delta_pred(y_pred, y_true):\n",
    "    delta = y_pred - y_true\n",
    "    return np.mean(delta)"
   ]
  },
  {
   "cell_type": "code",
   "execution_count": 4,
   "metadata": {},
   "outputs": [],
   "source": [
    "# params \n",
    "gpu, dataParallel = 'True', 'True'\n",
    "gpu, dataParallel = 'False', 'False'\n",
    "side = '_L'\n",
    "batch_size = 512\n",
    "data_aug = 'False'\n",
    "age_range = [0, 70]"
   ]
  },
  {
   "cell_type": "code",
   "execution_count": 5,
   "metadata": {},
   "outputs": [
    {
     "output_type": "stream",
     "name": "stdout",
     "text": [
      "Dropout 0.2\nUsing cpu\nDevice cpu cuda False\n"
     ]
    }
   ],
   "source": [
    "# Load effNet3D B0\n",
    "model = EfNetB0.from_name(\"efficientnet-b0\",\n",
    "                          override_params={'num_classes': 1},\n",
    "                          in_channels=1)\n",
    "if eval(gpu):\n",
    "    print(\"Using GPU\")\n",
    "    device = torch.device('cuda')\n",
    "    cuda = True\n",
    "    if eval(dataParallel):\n",
    "        if torch.cuda.device_count() > 1:\n",
    "            print(torch.cuda.device_count(), \"GPUs!\")\n",
    "            model = nn.DataParallel(model)\n",
    "else:\n",
    "    print(\"Using cpu\")\n",
    "    cuda = False\n",
    "    device = torch.device('cpu')\n",
    "\n",
    "model = model.to(device)\n",
    "print(\"Device\", device, 'cuda', cuda)"
   ]
  },
  {
   "cell_type": "code",
   "execution_count": 6,
   "metadata": {},
   "outputs": [],
   "source": [
    "def check_state_dict(ck, md):\n",
    "    if ck.keys() == md.keys():\n",
    "        return ''\n",
    "    else:\n",
    "        split_key = list(ck.keys())[0].split(\n",
    "            list(md.keys())[0])[0]\n",
    "        return split_key\n",
    "\n",
    "def correct_state_dict(ck, split_key):\n",
    "    ck2 = {}\n",
    "    for k in ck.keys():\n",
    "        ck2[k.split(split_key)[1]] = ck[k]\n",
    "    return ck2"
   ]
  },
  {
   "cell_type": "code",
   "execution_count": 13,
   "metadata": {},
   "outputs": [],
   "source": [
    "def predict_pipeline(testfile, age=70, side='_L'):\n",
    "    dataloader = MyDataLoader(database='../datasets',\n",
    "                          csv_data='../csv_data',\n",
    "                          side=side,\n",
    "                          batch=batch_size,\n",
    "                          data_aug=eval(data_aug),\n",
    "                          test_file=testfile\n",
    "                          )\n",
    "    dataloader.prepare_data('test_label')\n",
    "    dataloader.setup('test_label')\n",
    "    \n",
    "    print(\"Test size\", len(dataloader.test.inputs[0]))\n",
    "    \n",
    "    # Check train/val results    \n",
    "    optimizer = torch.optim.RMSprop(model.parameters(),\n",
    "                                    lr=.256, alpha=0.9,\n",
    "                                    eps=1e-08, momentum=0.9,\n",
    "                                    )\n",
    "    if age == 0:\n",
    "        if side == '_L':\n",
    "            snapshot = 'outputs/ckpt_23-04-2021_age_[0-70]_RMS_wd_0_L_dp0.4_model_best.pth.tar'\n",
    "        else:\n",
    "            snapshot = 'outputs/ckpt_16-04-2021_age_[0-70]_RMS_wd_0_R_dp0.5.pth.tar'\n",
    "    else:\n",
    "        if side == '_L':\n",
    "            snapshot = 'outputs/ckpt_18-04-2021_age_[70-100]_RMS_wd_0_L_dp0.3.pth.tar'\n",
    "        else:\n",
    "            snapshot = 'outputs/ckpt_19-04-2021_age_[70-100]_RMS_wd_0_R_dp0.4.pth.tar'\n",
    "    print(snapshot)\n",
    "\n",
    "    checkpoint = torch.load(snapshot, map_location=device)\n",
    "    split_key = check_state_dict(checkpoint['state_dict'], model.state_dict())\n",
    "    print(list(checkpoint['state_dict'])[0])\n",
    "    if split_key is not None:\n",
    "        checkpoint['state_dict'] = correct_state_dict(checkpoint['state_dict'], split_key)\n",
    "    print(list(checkpoint['state_dict'])[0])\n",
    "    model.load_state_dict(checkpoint['state_dict'])\n",
    "    model.to(device)\n",
    "    optimizer.load_state_dict(checkpoint['optimizer'])\n",
    "    \n",
    "    print(side, age, 'epoch', checkpoint['epoch'],\n",
    "          'loss', checkpoint['loss'],\n",
    "          'val_loss', checkpoint['val_loss'])\n",
    "    \n",
    "    loss = nn.L1Loss(reduction='mean')\n",
    "    metrics = [MSE()]\n",
    "    \n",
    "    # Predict\n",
    "    trainer = ModuleTrainer(model.to(device))\n",
    "\n",
    "    trainer.compile(loss=loss,\n",
    "                    optimizer=optimizer,\n",
    "                    metrics=metrics)\n",
    "\n",
    "    print('cuda', cuda)\n",
    "\n",
    "    pred = trainer.predict_loader(dataloader.testlabel_dataloader(),\n",
    "                                  cuda_device=cuda)\n",
    "    \n",
    "    imgs = dataloader.testpath\n",
    "    imgs = [img.split(\"/\")[-1].split(side)[0] for img in imgs]\n",
    "    \n",
    "    preds = pd.concat([pd.DataFrame(imgs),\n",
    "                       pd.DataFrame(dataloader.testlabel),\n",
    "                       pd.DataFrame(pred.detach().cpu().numpy())], axis=1)\n",
    "    preds.columns = ['Name', 'True', 'Pred']\n",
    "    \n",
    "    return preds\n",
    "\n",
    "def metrics_pipeline(preds):\n",
    "    print(\"MAE\", MAE_pred(torch.from_numpy(preds['Pred'].values), torch.from_numpy(preds['True'].values)))\n",
    "    print(\"MSE\", MSE_pred(torch.from_numpy(preds['Pred'].values), torch.from_numpy(preds['True'].values)))\n",
    "    print(\"Delta\", delta_pred(preds['Pred'], preds['True']))"
   ]
  },
  {
   "cell_type": "code",
   "execution_count": 15,
   "metadata": {},
   "outputs": [
    {
     "output_type": "stream",
     "name": "stdout",
     "text": [
      "# Left - 0-70\n",
      "Preparing data\n",
      "Setup data\n",
      "Test size 74\n",
      "outputs/ckpt_23-04-2021_age_[0-70]_RMS_wd_0_L_dp0.4_model_best.pth.tar\n",
      "module._conv_stem.weight\n",
      "_conv_stem.weight\n",
      "_L 0 epoch 271 loss 17.357578914097378 val_loss 41.43309783935547\n",
      "cuda False\n",
      "MAE 4.70743745855383\n",
      "MSE 41.433059278217755\n",
      "Delta -0.30682951540560327\n",
      "# Right - 0-70\n",
      "Preparing data\n",
      "Setup data\n",
      "Test size 74\n",
      "outputs/ckpt_16-04-2021_age_[0-70]_RMS_wd_0_R_dp0.5.pth.tar\n"
     ]
    },
    {
     "output_type": "error",
     "ename": "FileNotFoundError",
     "evalue": "[Errno 2] No such file or directory: 'outputs/ckpt_16-04-2021_age_[0-70]_RMS_wd_0_R_dp0.5.pth.tar'",
     "traceback": [
      "\u001b[0;31m---------------------------------------------------------------------------\u001b[0m",
      "\u001b[0;31mFileNotFoundError\u001b[0m                         Traceback (most recent call last)",
      "\u001b[0;32m<ipython-input-15-9617dbba1043>\u001b[0m in \u001b[0;36m<module>\u001b[0;34m\u001b[0m\n\u001b[1;32m      5\u001b[0m \u001b[0mpred_left\u001b[0m\u001b[0;34m.\u001b[0m\u001b[0mto_csv\u001b[0m\u001b[0;34m(\u001b[0m\u001b[0;34m'predict_results/val_0-70_L.csv'\u001b[0m\u001b[0;34m,\u001b[0m \u001b[0mindex\u001b[0m\u001b[0;34m=\u001b[0m\u001b[0;32mFalse\u001b[0m\u001b[0;34m)\u001b[0m\u001b[0;34m\u001b[0m\u001b[0;34m\u001b[0m\u001b[0m\n\u001b[1;32m      6\u001b[0m \u001b[0mprint\u001b[0m\u001b[0;34m(\u001b[0m\u001b[0;34m\"# Right - 0-70\"\u001b[0m\u001b[0;34m)\u001b[0m\u001b[0;34m\u001b[0m\u001b[0;34m\u001b[0m\u001b[0m\n\u001b[0;32m----> 7\u001b[0;31m \u001b[0mpred_right\u001b[0m \u001b[0;34m=\u001b[0m \u001b[0mpredict_pipeline\u001b[0m\u001b[0;34m(\u001b[0m\u001b[0;34m'val_0-70.csv'\u001b[0m\u001b[0;34m,\u001b[0m \u001b[0mage\u001b[0m\u001b[0;34m=\u001b[0m\u001b[0;36m0\u001b[0m\u001b[0;34m,\u001b[0m \u001b[0mside\u001b[0m\u001b[0;34m=\u001b[0m\u001b[0;34m'_R'\u001b[0m\u001b[0;34m)\u001b[0m\u001b[0;34m\u001b[0m\u001b[0;34m\u001b[0m\u001b[0m\n\u001b[0m\u001b[1;32m      8\u001b[0m \u001b[0mmetrics_pipeline\u001b[0m\u001b[0;34m(\u001b[0m\u001b[0mpred_right\u001b[0m\u001b[0;34m)\u001b[0m\u001b[0;34m\u001b[0m\u001b[0;34m\u001b[0m\u001b[0m\n\u001b[1;32m      9\u001b[0m \u001b[0mpred_right\u001b[0m\u001b[0;34m.\u001b[0m\u001b[0mto_csv\u001b[0m\u001b[0;34m(\u001b[0m\u001b[0;34m'predict_results/val_0-70_R.csv'\u001b[0m\u001b[0;34m,\u001b[0m \u001b[0mindex\u001b[0m\u001b[0;34m=\u001b[0m\u001b[0;32mFalse\u001b[0m\u001b[0;34m)\u001b[0m\u001b[0;34m\u001b[0m\u001b[0;34m\u001b[0m\u001b[0m\n",
      "\u001b[0;32m<ipython-input-13-65e93828c97b>\u001b[0m in \u001b[0;36mpredict_pipeline\u001b[0;34m(testfile, age, side)\u001b[0m\n\u001b[1;32m     29\u001b[0m     \u001b[0mprint\u001b[0m\u001b[0;34m(\u001b[0m\u001b[0msnapshot\u001b[0m\u001b[0;34m)\u001b[0m\u001b[0;34m\u001b[0m\u001b[0;34m\u001b[0m\u001b[0m\n\u001b[1;32m     30\u001b[0m \u001b[0;34m\u001b[0m\u001b[0m\n\u001b[0;32m---> 31\u001b[0;31m     \u001b[0mcheckpoint\u001b[0m \u001b[0;34m=\u001b[0m \u001b[0mtorch\u001b[0m\u001b[0;34m.\u001b[0m\u001b[0mload\u001b[0m\u001b[0;34m(\u001b[0m\u001b[0msnapshot\u001b[0m\u001b[0;34m,\u001b[0m \u001b[0mmap_location\u001b[0m\u001b[0;34m=\u001b[0m\u001b[0mdevice\u001b[0m\u001b[0;34m)\u001b[0m\u001b[0;34m\u001b[0m\u001b[0;34m\u001b[0m\u001b[0m\n\u001b[0m\u001b[1;32m     32\u001b[0m     \u001b[0msplit_key\u001b[0m \u001b[0;34m=\u001b[0m \u001b[0mcheck_state_dict\u001b[0m\u001b[0;34m(\u001b[0m\u001b[0mcheckpoint\u001b[0m\u001b[0;34m[\u001b[0m\u001b[0;34m'state_dict'\u001b[0m\u001b[0;34m]\u001b[0m\u001b[0;34m,\u001b[0m \u001b[0mmodel\u001b[0m\u001b[0;34m.\u001b[0m\u001b[0mstate_dict\u001b[0m\u001b[0;34m(\u001b[0m\u001b[0;34m)\u001b[0m\u001b[0;34m)\u001b[0m\u001b[0;34m\u001b[0m\u001b[0;34m\u001b[0m\u001b[0m\n\u001b[1;32m     33\u001b[0m     \u001b[0mprint\u001b[0m\u001b[0;34m(\u001b[0m\u001b[0mlist\u001b[0m\u001b[0;34m(\u001b[0m\u001b[0mcheckpoint\u001b[0m\u001b[0;34m[\u001b[0m\u001b[0;34m'state_dict'\u001b[0m\u001b[0;34m]\u001b[0m\u001b[0;34m)\u001b[0m\u001b[0;34m[\u001b[0m\u001b[0;36m0\u001b[0m\u001b[0;34m]\u001b[0m\u001b[0;34m)\u001b[0m\u001b[0;34m\u001b[0m\u001b[0;34m\u001b[0m\u001b[0m\n",
      "\u001b[0;32m~/.local/lib/python3.6/site-packages/torch/serialization.py\u001b[0m in \u001b[0;36mload\u001b[0;34m(f, map_location, pickle_module, **pickle_load_args)\u001b[0m\n\u001b[1;32m    579\u001b[0m         \u001b[0mpickle_load_args\u001b[0m\u001b[0;34m[\u001b[0m\u001b[0;34m'encoding'\u001b[0m\u001b[0;34m]\u001b[0m \u001b[0;34m=\u001b[0m \u001b[0;34m'utf-8'\u001b[0m\u001b[0;34m\u001b[0m\u001b[0;34m\u001b[0m\u001b[0m\n\u001b[1;32m    580\u001b[0m \u001b[0;34m\u001b[0m\u001b[0m\n\u001b[0;32m--> 581\u001b[0;31m     \u001b[0;32mwith\u001b[0m \u001b[0m_open_file_like\u001b[0m\u001b[0;34m(\u001b[0m\u001b[0mf\u001b[0m\u001b[0;34m,\u001b[0m \u001b[0;34m'rb'\u001b[0m\u001b[0;34m)\u001b[0m \u001b[0;32mas\u001b[0m \u001b[0mopened_file\u001b[0m\u001b[0;34m:\u001b[0m\u001b[0;34m\u001b[0m\u001b[0;34m\u001b[0m\u001b[0m\n\u001b[0m\u001b[1;32m    582\u001b[0m         \u001b[0;32mif\u001b[0m \u001b[0m_is_zipfile\u001b[0m\u001b[0;34m(\u001b[0m\u001b[0mopened_file\u001b[0m\u001b[0;34m)\u001b[0m\u001b[0;34m:\u001b[0m\u001b[0;34m\u001b[0m\u001b[0;34m\u001b[0m\u001b[0m\n\u001b[1;32m    583\u001b[0m             \u001b[0;31m# The zipfile reader is going to advance the current file position.\u001b[0m\u001b[0;34m\u001b[0m\u001b[0;34m\u001b[0m\u001b[0;34m\u001b[0m\u001b[0m\n",
      "\u001b[0;32m~/.local/lib/python3.6/site-packages/torch/serialization.py\u001b[0m in \u001b[0;36m_open_file_like\u001b[0;34m(name_or_buffer, mode)\u001b[0m\n\u001b[1;32m    228\u001b[0m \u001b[0;32mdef\u001b[0m \u001b[0m_open_file_like\u001b[0m\u001b[0;34m(\u001b[0m\u001b[0mname_or_buffer\u001b[0m\u001b[0;34m,\u001b[0m \u001b[0mmode\u001b[0m\u001b[0;34m)\u001b[0m\u001b[0;34m:\u001b[0m\u001b[0;34m\u001b[0m\u001b[0;34m\u001b[0m\u001b[0m\n\u001b[1;32m    229\u001b[0m     \u001b[0;32mif\u001b[0m \u001b[0m_is_path\u001b[0m\u001b[0;34m(\u001b[0m\u001b[0mname_or_buffer\u001b[0m\u001b[0;34m)\u001b[0m\u001b[0;34m:\u001b[0m\u001b[0;34m\u001b[0m\u001b[0;34m\u001b[0m\u001b[0m\n\u001b[0;32m--> 230\u001b[0;31m         \u001b[0;32mreturn\u001b[0m \u001b[0m_open_file\u001b[0m\u001b[0;34m(\u001b[0m\u001b[0mname_or_buffer\u001b[0m\u001b[0;34m,\u001b[0m \u001b[0mmode\u001b[0m\u001b[0;34m)\u001b[0m\u001b[0;34m\u001b[0m\u001b[0;34m\u001b[0m\u001b[0m\n\u001b[0m\u001b[1;32m    231\u001b[0m     \u001b[0;32melse\u001b[0m\u001b[0;34m:\u001b[0m\u001b[0;34m\u001b[0m\u001b[0;34m\u001b[0m\u001b[0m\n\u001b[1;32m    232\u001b[0m         \u001b[0;32mif\u001b[0m \u001b[0;34m'w'\u001b[0m \u001b[0;32min\u001b[0m \u001b[0mmode\u001b[0m\u001b[0;34m:\u001b[0m\u001b[0;34m\u001b[0m\u001b[0;34m\u001b[0m\u001b[0m\n",
      "\u001b[0;32m~/.local/lib/python3.6/site-packages/torch/serialization.py\u001b[0m in \u001b[0;36m__init__\u001b[0;34m(self, name, mode)\u001b[0m\n\u001b[1;32m    209\u001b[0m \u001b[0;32mclass\u001b[0m \u001b[0m_open_file\u001b[0m\u001b[0;34m(\u001b[0m\u001b[0m_opener\u001b[0m\u001b[0;34m)\u001b[0m\u001b[0;34m:\u001b[0m\u001b[0;34m\u001b[0m\u001b[0;34m\u001b[0m\u001b[0m\n\u001b[1;32m    210\u001b[0m     \u001b[0;32mdef\u001b[0m \u001b[0m__init__\u001b[0m\u001b[0;34m(\u001b[0m\u001b[0mself\u001b[0m\u001b[0;34m,\u001b[0m \u001b[0mname\u001b[0m\u001b[0;34m,\u001b[0m \u001b[0mmode\u001b[0m\u001b[0;34m)\u001b[0m\u001b[0;34m:\u001b[0m\u001b[0;34m\u001b[0m\u001b[0;34m\u001b[0m\u001b[0m\n\u001b[0;32m--> 211\u001b[0;31m         \u001b[0msuper\u001b[0m\u001b[0;34m(\u001b[0m\u001b[0m_open_file\u001b[0m\u001b[0;34m,\u001b[0m \u001b[0mself\u001b[0m\u001b[0;34m)\u001b[0m\u001b[0;34m.\u001b[0m\u001b[0m__init__\u001b[0m\u001b[0;34m(\u001b[0m\u001b[0mopen\u001b[0m\u001b[0;34m(\u001b[0m\u001b[0mname\u001b[0m\u001b[0;34m,\u001b[0m \u001b[0mmode\u001b[0m\u001b[0;34m)\u001b[0m\u001b[0;34m)\u001b[0m\u001b[0;34m\u001b[0m\u001b[0;34m\u001b[0m\u001b[0m\n\u001b[0m\u001b[1;32m    212\u001b[0m \u001b[0;34m\u001b[0m\u001b[0m\n\u001b[1;32m    213\u001b[0m     \u001b[0;32mdef\u001b[0m \u001b[0m__exit__\u001b[0m\u001b[0;34m(\u001b[0m\u001b[0mself\u001b[0m\u001b[0;34m,\u001b[0m \u001b[0;34m*\u001b[0m\u001b[0margs\u001b[0m\u001b[0;34m)\u001b[0m\u001b[0;34m:\u001b[0m\u001b[0;34m\u001b[0m\u001b[0;34m\u001b[0m\u001b[0m\n",
      "\u001b[0;31mFileNotFoundError\u001b[0m: [Errno 2] No such file or directory: 'outputs/ckpt_16-04-2021_age_[0-70]_RMS_wd_0_R_dp0.5.pth.tar'"
     ]
    }
   ],
   "source": [
    "# Just checking if loss is right!\n",
    "print(\"# Left - 0-70\")\n",
    "pred_left = predict_pipeline('val_0-70.csv', age=0, side='_L')\n",
    "metrics_pipeline(pred_left)\n",
    "pred_left.to_csv('predict_results/val_0-70_L.csv', index=False)\n",
    "print(\"# Right - 0-70\")\n",
    "pred_right = predict_pipeline('val_0-70.csv', age=0, side='_R')\n",
    "metrics_pipeline(pred_right)\n",
    "pred_right.to_csv('predict_results/val_0-70_R.csv', index=False)\n",
    "\n",
    "print(\"# Left - 70-100\")\n",
    "pred_left = predict_pipeline('val_exp.csv', age=70, side='_L')\n",
    "metrics_pipeline(pred_left)\n",
    "print(\"# Right - 70-100\")\n",
    "pred_right = predict_pipeline('val_exp.csv', age=70, side='_R')\n",
    "metrics_pipeline(pred_right)\n",
    "\n",
    "pred_left.to_csv('predict_results/val_exp_L.csv', index=False)\n",
    "pred_right.to_csv('predict_results/val_exp_R.csv', index=False)"
   ]
  },
  {
   "cell_type": "code",
   "execution_count": 17,
   "metadata": {},
   "outputs": [
    {
     "name": "stdout",
     "output_type": "stream",
     "text": [
      "# Left - 70-100\n",
      "Preparing data\n",
      "Setup data\n",
      "Test size 151\n",
      "outputs/ckpt_18-04-2021_age_[70-100]_RMS_wd_0_L_dp0.3.pth.tar\n",
      "module._conv_stem.weight\n",
      "_conv_stem.weight\n",
      "_L 70 epoch 150 loss 1.9140096906470672 val_loss 3.928427219390869\n",
      "cuda False\n",
      "MAE 4.477334736198778\n",
      "MSE 30.201666103676082\n",
      "Delta 1.0984418856387113\n",
      "# Right - 70-11\n",
      "Preparing data\n",
      "Setup data\n",
      "Test size 151\n",
      "outputs/ckpt_19-04-2021_age_[70-100]_RMS_wd_0_R_dp0.4.pth.tar\n",
      "module._conv_stem.weight\n",
      "_conv_stem.weight\n",
      "_R 70 epoch 150 loss 2.959100668674303 val_loss 3.5481879711151123\n",
      "cuda False\n",
      "MAE 3.6924684941373913\n",
      "MSE 22.789665610614335\n",
      "Delta -1.5773571999657228\n"
     ]
    }
   ],
   "source": [
    "# Test\n",
    "print(\"# Left - 70-100\")\n",
    "pred_left = predict_pipeline('test_exp.csv', age=70, side='_L')\n",
    "metrics_pipeline(pred_left)\n",
    "print(\"# Right - 70-11\")\n",
    "pred_right = predict_pipeline('test_exp.csv', age=70, side='_R')\n",
    "metrics_pipeline(pred_right)\n",
    "\n",
    "pred_left.to_csv('predict_results/test_exp_L.csv', index=False)\n",
    "pred_right.to_csv('predict_results/test_exp_R.csv', index=False)"
   ]
  },
  {
   "cell_type": "code",
   "execution_count": 18,
   "metadata": {},
   "outputs": [
    {
     "name": "stdout",
     "output_type": "stream",
     "text": [
      "# Left - 70-100\n",
      "Preparing data\n",
      "Setup data\n",
      "Test size 209\n",
      "outputs/ckpt_18-04-2021_age_[70-100]_RMS_wd_0_L_dp0.3.pth.tar\n",
      "module._conv_stem.weight\n",
      "_conv_stem.weight\n",
      "_L 70 epoch 150 loss 1.9140096906470672 val_loss 3.928427219390869\n",
      "cuda False\n",
      "MAE 5.699224357057416\n",
      "MSE 48.2593426091945\n",
      "Delta 4.396512322676809\n",
      "# Right - 70-100\n",
      "Preparing data\n",
      "Setup data\n",
      "Test size 209\n",
      "outputs/ckpt_19-04-2021_age_[70-100]_RMS_wd_0_R_dp0.4.pth.tar\n",
      "module._conv_stem.weight\n",
      "_conv_stem.weight\n",
      "_R 70 epoch 150 loss 2.959100668674303 val_loss 3.5481879711151123\n",
      "cuda False\n",
      "MAE 4.559458645907315\n",
      "MSE 31.092469865173967\n",
      "Delta 2.319664862965853\n"
     ]
    }
   ],
   "source": [
    "# AD\n",
    "print(\"# Left - 70-100\")\n",
    "pred_left = predict_pipeline('ad_images.csv', age=70, side='_L')\n",
    "metrics_pipeline(pred_left)\n",
    "print(\"# Right - 70-100\")\n",
    "pred_right = predict_pipeline('ad_images.csv', age=70, side='_R')\n",
    "metrics_pipeline(pred_right)\n",
    "pred_left.to_csv('predict_results/ad_images_L.csv', index=False)\n",
    "pred_right.to_csv('predict_results/ad_images_R.csv', index=False)"
   ]
  },
  {
   "cell_type": "code",
   "execution_count": 19,
   "metadata": {},
   "outputs": [
    {
     "name": "stdout",
     "output_type": "stream",
     "text": [
      "# Left - 70-100\n",
      "Preparing data\n",
      "Setup data\n",
      "Test size 251\n",
      "outputs/ckpt_18-04-2021_age_[70-100]_RMS_wd_0_L_dp0.3.pth.tar\n",
      "module._conv_stem.weight\n",
      "_conv_stem.weight\n",
      "_L 70 epoch 150 loss 1.9140096906470672 val_loss 3.928427219390869\n",
      "cuda False\n",
      "MAE 5.243145447993183\n",
      "MSE 43.625055629645374\n",
      "Delta 3.58503745029647\n",
      "# Right - 70-11\n",
      "Preparing data\n",
      "Setup data\n",
      "Test size 251\n",
      "outputs/ckpt_19-04-2021_age_[70-100]_RMS_wd_0_R_dp0.4.pth.tar\n",
      "module._conv_stem.weight\n",
      "_conv_stem.weight\n",
      "_R 70 epoch 150 loss 2.959100668674303 val_loss 3.5481879711151123\n",
      "cuda False\n",
      "MAE 4.732869997062529\n",
      "MSE 35.33636928538651\n",
      "Delta 1.4572912938091382\n"
     ]
    }
   ],
   "source": [
    "# MCI\n",
    "print(\"# Left - 70-100\")\n",
    "pred_left = predict_pipeline('mci_images.csv', age=70, side='_L')\n",
    "metrics_pipeline(pred_left)\n",
    "print(\"# Right - 70-11\")\n",
    "pred_right = predict_pipeline('mci_images.csv', age=70, side='_R')\n",
    "metrics_pipeline(pred_right)\n",
    "pred_left.to_csv('predict_results/mci_images_L.csv', index=False)\n",
    "pred_right.to_csv('predict_results/mci_images_R.csv', index=False)"
   ]
  },
  {
   "cell_type": "code",
   "execution_count": 13,
   "metadata": {},
   "outputs": [
    {
     "ename": "NameError",
     "evalue": "name 'predict' is not defined",
     "output_type": "error",
     "traceback": [
      "\u001b[0;31m---------------------------------------------------------------------------\u001b[0m",
      "\u001b[0;31mNameError\u001b[0m                                 Traceback (most recent call last)",
      "\u001b[0;32m<ipython-input-13-dbbdecb96fdc>\u001b[0m in \u001b[0;36m<module>\u001b[0;34m\u001b[0m\n\u001b[0;32m----> 1\u001b[0;31m \u001b[0mpreds_left\u001b[0m\u001b[0;34m,\u001b[0m \u001b[0mpreds_right\u001b[0m\u001b[0;34m,\u001b[0m \u001b[0mens\u001b[0m \u001b[0;34m=\u001b[0m \u001b[0mpredict\u001b[0m\u001b[0;34m(\u001b[0m\u001b[0;34m'val_0-70.csv'\u001b[0m\u001b[0;34m,\u001b[0m \u001b[0mage\u001b[0m\u001b[0;34m=\u001b[0m\u001b[0;36m0\u001b[0m\u001b[0;34m)\u001b[0m\u001b[0;34m\u001b[0m\u001b[0;34m\u001b[0m\u001b[0m\n\u001b[0m\u001b[1;32m      2\u001b[0m \u001b[0mmetrics\u001b[0m\u001b[0;34m(\u001b[0m\u001b[0mpreds_left\u001b[0m\u001b[0;34m,\u001b[0m \u001b[0mpreds_right\u001b[0m\u001b[0;34m,\u001b[0m \u001b[0mens\u001b[0m\u001b[0;34m)\u001b[0m\u001b[0;34m\u001b[0m\u001b[0;34m\u001b[0m\u001b[0m\n\u001b[1;32m      3\u001b[0m \u001b[0;31m# sns.regplot(x=\"PredLR\", y=\"TrueR\", data=ens)\u001b[0m\u001b[0;34m\u001b[0m\u001b[0;34m\u001b[0m\u001b[0;34m\u001b[0m\u001b[0m\n\u001b[1;32m      4\u001b[0m \u001b[0mx\u001b[0m\u001b[0;34m,\u001b[0m \u001b[0my\u001b[0m \u001b[0;34m=\u001b[0m \u001b[0mpreds_right\u001b[0m\u001b[0;34m[\u001b[0m\u001b[0;34m'TrueR'\u001b[0m\u001b[0;34m]\u001b[0m\u001b[0;34m,\u001b[0m \u001b[0mpreds_right\u001b[0m\u001b[0;34m[\u001b[0m\u001b[0;34m'PredR'\u001b[0m\u001b[0;34m]\u001b[0m\u001b[0;34m\u001b[0m\u001b[0;34m\u001b[0m\u001b[0m\n\u001b[1;32m      5\u001b[0m \u001b[0mslope\u001b[0m\u001b[0;34m,\u001b[0m \u001b[0mintercept\u001b[0m\u001b[0;34m,\u001b[0m \u001b[0mr\u001b[0m\u001b[0;34m,\u001b[0m \u001b[0mp\u001b[0m\u001b[0;34m,\u001b[0m \u001b[0mstderr\u001b[0m \u001b[0;34m=\u001b[0m \u001b[0mscipy\u001b[0m\u001b[0;34m.\u001b[0m\u001b[0mstats\u001b[0m\u001b[0;34m.\u001b[0m\u001b[0mlinregress\u001b[0m\u001b[0;34m(\u001b[0m\u001b[0mx\u001b[0m\u001b[0;34m,\u001b[0m \u001b[0my\u001b[0m\u001b[0;34m)\u001b[0m\u001b[0;34m\u001b[0m\u001b[0;34m\u001b[0m\u001b[0m\n",
      "\u001b[0;31mNameError\u001b[0m: name 'predict' is not defined"
     ]
    }
   ],
   "source": [
    "preds_left, preds_right, ens = predict('val_0-70.csv', age=0)\n",
    "metrics(preds_left, preds_right, ens)\n",
    "# sns.regplot(x=\"PredLR\", y=\"TrueR\", data=ens)\n",
    "x, y = preds_right['TrueR'], preds_right['PredR']\n",
    "slope, intercept, r, p, stderr = scipy.stats.linregress(x, y)\n",
    "# intercept = 0\n",
    "# slope = 1\n",
    "line = f'Regression line: y={intercept:.2f}+{slope:.2f}x, r={r:.2f}'\n",
    "line = f'Regression line: y={intercept:.2f}+{slope:.2f}x, r={r:.2f}'\n",
    "fig, ax = plt.subplots()\n",
    "ax.plot(x, y, linewidth=0, marker='s', label='Data points')\n",
    "ax.plot(x, intercept + slope * x, label=line)\n",
    "ax.set_xlabel('Chronological age')\n",
    "ax.set_ylabel('Estimated age')\n",
    "ax.legend(facecolor='white')\n",
    "plt.show()"
   ]
  },
  {
   "cell_type": "code",
   "execution_count": null,
   "metadata": {},
   "outputs": [],
   "source": [
    "maeval = abs(preds_right['PredR'].values - preds_right['TrueR'].values)\n",
    "plott = pd.concat([pd.DataFrame(maeval), preds_right['TrueR']], axis=1)\n",
    "plott.columns = ['MAE', 'TrueR']\n",
    "sns.scatterplot(x=\"TrueR\", y=\"MAE\", data=plott)"
   ]
  },
  {
   "cell_type": "code",
   "execution_count": null,
   "metadata": {},
   "outputs": [],
   "source": [
    "preds_left, preds_right, ens = predict('val_exp.csv')\n",
    "metrics(preds_left, preds_right, ens)\n",
    "sns.regplot(x=\"PredLR\", y=\"TrueR\", data=ens)"
   ]
  },
  {
   "cell_type": "code",
   "execution_count": null,
   "metadata": {},
   "outputs": [],
   "source": [
    "x, y = ens['TrueR'], ens['PredLR']\n",
    "slope, intercept, r, p, stderr = scipy.stats.linregress(x, y)\n",
    "# intercept = 0\n",
    "# slope = 1\n",
    "line = f'Regression line: y={intercept:.2f}+{slope:.2f}x, r={r:.2f}'\n",
    "line = f'Regression line: y={intercept:.2f}+{slope:.2f}x, r={r:.2f}'\n",
    "fig, ax = plt.subplots()\n",
    "ax.plot(x, y, linewidth=0, marker='s', label='Data points')\n",
    "ax.plot(x, intercept + slope * x, label=line)\n",
    "ax.set_xlabel('Chronological age')\n",
    "ax.set_ylabel('Estimated age')\n",
    "ax.legend(facecolor='white')\n",
    "plt.show()"
   ]
  },
  {
   "cell_type": "code",
   "execution_count": null,
   "metadata": {},
   "outputs": [],
   "source": [
    "def bias_corr(pred):\n",
    "    a = 0.41\n",
    "    b = 48.4\n",
    "    return (pred - b)/a"
   ]
  },
  {
   "cell_type": "code",
   "execution_count": null,
   "metadata": {},
   "outputs": [],
   "source": [
    "enss = pd.concat([ens, pd.DataFrame(bias_corr(ens['PredLR'].values), columns=['BC'])], axis=1)\n",
    "\n",
    "maeval = enss['BC'].values - enss['TrueR'].values\n",
    "plott = pd.concat([pd.DataFrame(maeval), enss['TrueR']], axis=1)\n",
    "plott.columns = ['MAE', 'TrueR']\n",
    "sns.scatterplot(x=\"TrueR\", y=\"MAE\", data=plott)\n",
    "\n",
    "\n",
    "print(\"MAE\", MAE_pred(torch.from_numpy(enss['BC'].values), torch.from_numpy(enss['TrueR'].values)))\n",
    "print(\"MSE\", MSE_pred(torch.from_numpy(enss['BC'].values), torch.from_numpy(enss['TrueR'].values)))\n",
    "print(\"Delta\", delta_pred(enss['BC'], enss['TrueR']))"
   ]
  },
  {
   "cell_type": "code",
   "execution_count": null,
   "metadata": {},
   "outputs": [],
   "source": [
    "preds_left, preds_right, ens = predict('test_exp.csv')\n",
    "metrics(preds_left, preds_right, ens)\n",
    "sns.regplot(x=\"PredLR\", y=\"TrueR\", data=ens)"
   ]
  },
  {
   "cell_type": "code",
   "execution_count": null,
   "metadata": {},
   "outputs": [],
   "source": [
    "enss = pd.concat([ens, pd.DataFrame(bias_corr(ens['PredLR'].values), columns=['BC'])], axis=1)\n",
    "\n",
    "maeval = enss['BC'].values - enss['TrueR'].values\n",
    "plott = pd.concat([pd.DataFrame(maeval), enss['TrueR']], axis=1)\n",
    "plott.columns = ['MAE', 'TrueR']\n",
    "sns.scatterplot(x=\"TrueR\", y=\"MAE\", data=plott)\n",
    "\n",
    "\n",
    "print(\"MAE\", MAE_pred(torch.from_numpy(enss['BC'].values), torch.from_numpy(enss['TrueR'].values)))\n",
    "print(\"MSE\", MSE_pred(torch.from_numpy(enss['BC'].values), torch.from_numpy(enss['TrueR'].values)))\n",
    "print(\"Delta\", delta_pred(enss['BC'], enss['TrueR']))"
   ]
  },
  {
   "cell_type": "code",
   "execution_count": null,
   "metadata": {},
   "outputs": [],
   "source": [
    "preds_left, preds_right, ens = predict('ad_images.csv')\n",
    "metrics(preds_left, preds_right, ens)\n",
    "sns.regplot(x=\"PredLR\", y=\"TrueR\", data=ens)"
   ]
  },
  {
   "cell_type": "code",
   "execution_count": null,
   "metadata": {},
   "outputs": [],
   "source": [
    "enss = pd.concat([ens, pd.DataFrame(bias_corr(ens['PredLR'].values), columns=['BC'])], axis=1)\n",
    "\n",
    "maeval = enss['BC'].values - enss['TrueR'].values\n",
    "plott = pd.concat([pd.DataFrame(maeval), enss['TrueR']], axis=1)\n",
    "plott.columns = ['MAE', 'TrueR']\n",
    "sns.scatterplot(x=\"TrueR\", y=\"MAE\", data=plott)\n",
    "\n",
    "print(\"MAE\", MAE_pred(torch.from_numpy(enss['BC'].values), torch.from_numpy(enss['TrueR'].values)))\n",
    "print(\"MSE\", MSE_pred(torch.from_numpy(enss['BC'].values), torch.from_numpy(enss['TrueR'].values)))\n",
    "print(\"Delta\", delta_pred(enss['BC'], enss['TrueR']))"
   ]
  },
  {
   "cell_type": "code",
   "execution_count": null,
   "metadata": {},
   "outputs": [],
   "source": [
    "preds_left, preds_right, ens = predict('mci_images.csv')\n",
    "metrics(preds_left, preds_right, ens)\n",
    "sns.regplot(x=\"PredLR\", y=\"TrueR\", data=ens)"
   ]
  },
  {
   "cell_type": "code",
   "execution_count": null,
   "metadata": {},
   "outputs": [],
   "source": [
    "enss = pd.concat([ens, pd.DataFrame(bias_corr(ens['PredLR'].values), columns=['BC'])], axis=1)\n",
    "\n",
    "maeval = enss['BC'].values - enss['TrueR'].values\n",
    "plott = pd.concat([pd.DataFrame(maeval), enss['TrueR']], axis=1)\n",
    "plott.columns = ['MAE', 'TrueR']\n",
    "sns.scatterplot(x=\"TrueR\", y=\"MAE\", data=plott)\n",
    "\n",
    "print(\"MAE\", MAE_pred(torch.from_numpy(enss['BC'].values), torch.from_numpy(enss['TrueR'].values)))\n",
    "print(\"MSE\", MSE_pred(torch.from_numpy(enss['BC'].values), torch.from_numpy(enss['TrueR'].values)))\n",
    "print(\"Delta\", delta_pred(enss['BC'], enss['TrueR']))"
   ]
  },
  {
   "cell_type": "code",
   "execution_count": null,
   "metadata": {},
   "outputs": [],
   "source": [
    "import scipy.stats\n",
    "x, y = ens['TrueR'], ens['PredLR']\n",
    "slope, intercept, r, p, stderr = scipy.stats.linregress(x, y)\n",
    "intercept = 0\n",
    "slope = 1\n",
    "line = f'Regression line: y={intercept:.2f}+{slope:.2f}x, r={r:.2f}'\n",
    "line = f'Regression line: y={intercept:.2f}+{slope:.2f}x, r={r:.2f}'\n",
    "fig, ax = plt.subplots()\n",
    "ax.plot(x, y, linewidth=0, marker='s', label='Data points')\n",
    "ax.plot(x, intercept + slope * x, label=line)\n",
    "ax.set_xlabel('True')\n",
    "ax.set_ylabel('Pred')\n",
    "ax.legend(facecolor='white')\n",
    "plt.show()"
   ]
  },
  {
   "cell_type": "code",
   "execution_count": null,
   "metadata": {},
   "outputs": [],
   "source": [
    "\n",
    "\n",
    "\n"
   ]
  },
  {
   "cell_type": "code",
   "execution_count": 19,
   "metadata": {},
   "outputs": [],
   "source": [
    "\n",
    "ad_inp = pd.read_csv('../csv_data/ad_images.csv')\n",
    "\n",
    "# ad_eval"
   ]
  },
  {
   "cell_type": "code",
   "execution_count": 22,
   "metadata": {},
   "outputs": [
    {
     "name": "stdout",
     "output_type": "stream",
     "text": [
      "016_S_5032_ADNI2_Month_6-New_Pt\n",
      "016_S_5032_ADNI2_Month_6-New_Pt\n"
     ]
    }
   ],
   "source": [
    "for side in ['_L', '_R']:\n",
    "    ad_eval = pd.read_csv('ad'+side+'.csv')\n",
    "    ad_eval['Image Filename'] = ad_eval['0'].apply(lambda x: x.split('/')[-1].split(side)[0])\n",
    "    for img in ad_inp['Image Filename']:\n",
    "        if img not in ad_eval['Image Filename'].values:\n",
    "            print(img)"
   ]
  },
  {
   "cell_type": "code",
   "execution_count": 23,
   "metadata": {},
   "outputs": [],
   "source": [
    "for side in ['_L', '_R']:\n",
    "    for x in os.listdir('../datasets/ADNI/'):\n",
    "        if side in x:\n",
    "            if x.split(side)[0] in ad_inp['Image Filename'].values:\n",
    "                if '016_S_5032_ADNI2_Month_6-New_Pt' in x.split(side)[0]:\n",
    "                    print(x)"
   ]
  },
  {
   "cell_type": "code",
   "execution_count": 11,
   "metadata": {},
   "outputs": [
    {
     "data": {
      "text/html": [
       "<div>\n",
       "<style scoped>\n",
       "    .dataframe tbody tr th:only-of-type {\n",
       "        vertical-align: middle;\n",
       "    }\n",
       "\n",
       "    .dataframe tbody tr th {\n",
       "        vertical-align: top;\n",
       "    }\n",
       "\n",
       "    .dataframe thead th {\n",
       "        text-align: right;\n",
       "    }\n",
       "</style>\n",
       "<table border=\"1\" class=\"dataframe\">\n",
       "  <thead>\n",
       "    <tr style=\"text-align: right;\">\n",
       "      <th></th>\n",
       "      <th>0</th>\n",
       "      <th>Image Filename</th>\n",
       "    </tr>\n",
       "  </thead>\n",
       "  <tbody>\n",
       "  </tbody>\n",
       "</table>\n",
       "</div>"
      ],
      "text/plain": [
       "Empty DataFrame\n",
       "Columns: [0, Image Filename]\n",
       "Index: []"
      ]
     },
     "execution_count": 11,
     "metadata": {},
     "output_type": "execute_result"
    }
   ],
   "source": [
    "ad_eval[ad_eval['Image Filename']=='024_S_4223_ADNI2_Month_6-New_Pt']"
   ]
  },
  {
   "cell_type": "code",
   "execution_count": null,
   "metadata": {},
   "outputs": [],
   "source": []
  }
 ],
 "metadata": {
  "kernelspec": {
   "name": "torch-dev",
   "display_name": "Python 3.6.9 64-bit"
  },
  "language_info": {
   "codemirror_mode": {
    "name": "ipython",
    "version": 3
   },
   "file_extension": ".py",
   "mimetype": "text/x-python",
   "name": "python",
   "nbconvert_exporter": "python",
   "pygments_lexer": "ipython3",
   "version": "3.6.9"
  }
 },
 "nbformat": 4,
 "nbformat_minor": 4
}