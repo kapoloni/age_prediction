{
 "cells": [
  {
   "cell_type": "code",
   "execution_count": 1,
   "metadata": {},
   "outputs": [],
   "source": [
    "import os\n",
    "import torch\n",
    "import pandas as pd\n",
    "import torch.nn as nn\n",
    "import numpy as np\n",
    "from age_prediction.models.\\\n",
    "    efficientnet_pytorch_3d import EfficientNet3D as EfNetB0\n",
    "from age_prediction.dataloader import MyDataLoader\n",
    "from age_prediction.trainer import ModuleTrainer\n",
    "from age_prediction.metrics import MSE, MAE\n",
    "\n",
    "import scipy.stats\n",
    "import seaborn as sns\n",
    "import matplotlib.pyplot as plt\n",
    "%matplotlib inline"
   ]
  },
  {
   "cell_type": "code",
   "execution_count": 2,
   "metadata": {},
   "outputs": [],
   "source": [
    "def MAE_pred(y_pred, y_true):\n",
    "    mae = nn.L1Loss(reduction='mean')(y_pred, y_true).cpu().detach().numpy().item()\n",
    "    return mae\n",
    "def MSE_pred(y_pred, y_true):\n",
    "    mse = nn.MSELoss()(y_pred, y_true).cpu().detach().numpy().item()\n",
    "    return mse\n",
    "def delta_pred(y_pred, y_true):\n",
    "    delta = y_pred - y_true\n",
    "    return np.mean(delta)"
   ]
  },
  {
   "cell_type": "code",
   "execution_count": 3,
   "metadata": {},
   "outputs": [],
   "source": [
    "# params \n",
    "gpu, dataParallel = 'True', 'True'\n",
    "gpu, dataParallel = 'False', 'False'\n",
    "side = '_L'\n",
    "batch_size = 512\n",
    "data_aug = 'False'\n",
    "age_range = [0, 70]"
   ]
  },
  {
   "cell_type": "code",
   "execution_count": 4,
   "metadata": {},
   "outputs": [
    {
     "output_type": "stream",
     "name": "stdout",
     "text": [
      "Using cpu\nDevice cpu cuda False\n"
     ]
    }
   ],
   "source": [
    "# Load effNet3D B0\n",
    "model = EfNetB0.from_name(\"efficientnet-b0\",\n",
    "                          override_params={'num_classes': 1},\n",
    "                          in_channels=1)\n",
    "if eval(gpu):\n",
    "    print(\"Using GPU\")\n",
    "    device = torch.device('cuda')\n",
    "    cuda = True\n",
    "    if eval(dataParallel):\n",
    "        if torch.cuda.device_count() > 1:\n",
    "            print(torch.cuda.device_count(), \"GPUs!\")\n",
    "            model = nn.DataParallel(model)\n",
    "else:\n",
    "    print(\"Using cpu\")\n",
    "    cuda = False\n",
    "    device = torch.device('cpu')\n",
    "\n",
    "model = model.to(device)\n",
    "print(\"Device\", device, 'cuda', cuda)"
   ]
  },
  {
   "cell_type": "code",
   "execution_count": 5,
   "metadata": {},
   "outputs": [],
   "source": [
    "def check_state_dict(ck, md):\n",
    "    if ck.keys() == md.keys():\n",
    "        return ''\n",
    "    else:\n",
    "        split_key = list(ck.keys())[0].split(\n",
    "            list(md.keys())[0])[0]\n",
    "        return split_key\n",
    "\n",
    "def correct_state_dict(ck, split_key):\n",
    "    ck2 = {}\n",
    "    for k in ck.keys():\n",
    "        ck2[k.split(split_key)[1]] = ck[k]\n",
    "    return ck2"
   ]
  },
  {
   "cell_type": "code",
   "execution_count": 8,
   "metadata": {},
   "outputs": [],
   "source": [
    "def predict_pipeline(testfile, age=70, side='_L'):\n",
    "    dataloader = MyDataLoader(database='../datasets',\n",
    "                              csv_data='database_split',\n",
    "                              side=side,\n",
    "                              batch=batch_size,\n",
    "                              data_aug=eval(data_aug),\n",
    "                              test_file=testfile\n",
    "                             )\n",
    "    dataloader.prepare_data('test_label')\n",
    "    dataloader.setup('test_label')\n",
    "    \n",
    "    # print(\"Test size\", len(dataloader.test.inputs[0]))\n",
    "    \n",
    "    # Check train/val results    \n",
    "    optimizer = torch.optim.RMSprop(model.parameters(),\n",
    "                                    lr=.256, alpha=0.9,\n",
    "                                    eps=1e-08, momentum=0.9,\n",
    "                                    )\n",
    "    if age == 0:\n",
    "        if side == '_L':\n",
    "            snapshot = 'outputs/ckpt_10-06-2021_age_[0-70]_RMS_wd_0_L_dp0.3_model_best_clr_[-5.2,-3.4].pth.tar'\n",
    "        else:\n",
    "            snapshot = 'outputs/ckpt_10-06-2021_age_[0-70]_RMS_wd_0_R_dp0.2_model_best_clr_[-5.2,-3.6].pth.tar'\n",
    "    else:\n",
    "        if side == '_L':\n",
    "            snapshot = 'outputs/ckpt_27-05-2021_age_[70-100]_RMS_wd_0_L_dp0.2.pth.tar'\n",
    "        else:\n",
    "            snapshot = 'outputs/ckpt_27-05-2021_age_[70-100]_RMS_wd_0_R_dp0.2.pth.tar'\n",
    "    print(snapshot, age)\n",
    "\n",
    "    checkpoint = torch.load(snapshot, map_location=device)\n",
    "    split_key = check_state_dict(checkpoint['state_dict'], model.state_dict())\n",
    "    if split_key is not None:\n",
    "        checkpoint['state_dict'] = correct_state_dict(checkpoint['state_dict'], split_key)\n",
    "    \n",
    "    model.load_state_dict(checkpoint['state_dict'])\n",
    "    model.to(device)\n",
    "    optimizer.load_state_dict(checkpoint['optimizer'])\n",
    "    \n",
    "    loss = nn.L1Loss(reduction='mean')\n",
    "    metrics = [MSE()]\n",
    "    \n",
    "    # Predict\n",
    "    trainer = ModuleTrainer(model.to(device))\n",
    "\n",
    "    trainer.compile(loss=loss,\n",
    "                    optimizer=optimizer,\n",
    "                    metrics=metrics)\n",
    "\n",
    "    pred = trainer.predict_loader(dataloader.testlabel_dataloader(),\n",
    "                                  cuda_device=cuda)\n",
    "    \n",
    "    imgs = dataloader.testpath\n",
    "    imgs = [img.split(\"/\")[-1].split(side)[0] for img in imgs]\n",
    "    \n",
    "    preds = pd.concat([pd.DataFrame(imgs),\n",
    "                       pd.DataFrame(dataloader.testlabel),\n",
    "                       pd.DataFrame(pred.detach().cpu().numpy())], axis=1)\n",
    "    preds.columns = ['Name', 'True', 'Pred']\n",
    "    \n",
    "    return preds\n",
    "\n",
    "def metrics_pipeline(preds):\n",
    "    print(\"MAE\", MAE_pred(torch.from_numpy(preds['Pred'].values), torch.from_numpy(preds['True'].values)))\n",
    "    print(\"MSE\", MSE_pred(torch.from_numpy(preds['Pred'].values), torch.from_numpy(preds['True'].values)))\n",
    "    print(\"Delta\", delta_pred(preds['Pred'], preds['True']))"
   ]
  },
  {
   "cell_type": "code",
   "execution_count": 9,
   "metadata": {},
   "outputs": [
    {
     "output_type": "stream",
     "name": "stdout",
     "text": [
      "##### VAL #####\n",
      "# Left - 0-70\n",
      "outputs/ckpt_10-06-2021_age_[0-70]_RMS_wd_0_L_dp0.3_model_best_clr_[-5.2,-3.4].pth.tar 0\n",
      "MAE 4.801818963831121\n",
      "MSE 39.5635064774985\n",
      "Delta 0.48927336085926315\n",
      "# Right - 0-70\n",
      "outputs/ckpt_10-06-2021_age_[0-70]_RMS_wd_0_R_dp0.2_model_best_clr_[-5.2,-3.6].pth.tar 0\n",
      "MAE 4.2397582799738105\n",
      "MSE 33.75790230962084\n",
      "Delta -0.0384121079878381\n",
      "##### TEST #####\n",
      "# Left - 0-70\n",
      "outputs/ckpt_10-06-2021_age_[0-70]_RMS_wd_0_L_dp0.3_model_best_clr_[-5.2,-3.4].pth.tar 0\n",
      "MAE 4.799713423972905\n",
      "MSE 54.37101925792592\n",
      "Delta 0.8318147366545926\n",
      "# Right - 0-70\n",
      "outputs/ckpt_10-06-2021_age_[0-70]_RMS_wd_0_R_dp0.2_model_best_clr_[-5.2,-3.6].pth.tar 0\n",
      "MAE 4.757565201160519\n",
      "MSE 37.50495844376314\n",
      "Delta -1.3441947298271706\n"
     ]
    }
   ],
   "source": [
    "print(\"#\"*5, 'VAL',\"#\"*5)\n",
    "print(\"# Left - 0-70\")\n",
    "pred_left = predict_pipeline('val_0-70.csv', age=0, side='_L')\n",
    "metrics_pipeline(pred_left)\n",
    "pred_left.to_csv('predict_results/val_0-70_L.csv', index=False)\n",
    "print(\"# Right - 0-70\")\n",
    "pred_right = predict_pipeline('val_0-70.csv', age=0, side='_R')\n",
    "metrics_pipeline(pred_right)\n",
    "pred_right.to_csv('predict_results/val_0-70_R.csv', index=False)\n",
    "\n",
    "print(\"#\"*5, 'TEST',\"#\"*5)\n",
    "print(\"# Left - 0-70\")\n",
    "pred_left = predict_pipeline('test_0-70.csv', age=0, side='_L')\n",
    "metrics_pipeline(pred_left)\n",
    "pred_left.to_csv('predict_results/test_0-70_L.csv', index=False)\n",
    "print(\"# Right - 0-70\")\n",
    "pred_right = predict_pipeline('test_0-70.csv', age=0, side='_R')\n",
    "metrics_pipeline(pred_right)\n",
    "pred_right.to_csv('predict_results/test_0-70_R.csv', index=False)\n"
   ]
  },
  {
   "cell_type": "code",
   "execution_count": 10,
   "metadata": {},
   "outputs": [
    {
     "output_type": "stream",
     "name": "stdout",
     "text": [
      "##### VAL #####\n",
      "# Left - 70-100\n",
      "outputs/ckpt_27-05-2021_age_[70-100]_RMS_wd_0_L_dp0.2.pth.tar 70\n",
      "MAE 4.280558362543977\n",
      "MSE 28.408468286749503\n",
      "Delta 1.5427204056291388\n",
      "# Right - 70-100\n",
      "outputs/ckpt_27-05-2021_age_[70-100]_RMS_wd_0_R_dp0.2.pth.tar 70\n",
      "MAE 4.780182672967974\n",
      "MSE 36.942544893747694\n",
      "Delta 3.2049762043731884\n",
      "##### TEST #####\n",
      "# Left - 70-100\n",
      "outputs/ckpt_27-05-2021_age_[70-100]_RMS_wd_0_L_dp0.2.pth.tar 70\n",
      "MAE 3.821388901464197\n",
      "MSE 22.100976693503686\n",
      "Delta 0.5262228858391974\n",
      "# Right - 70-100\n",
      "outputs/ckpt_27-05-2021_age_[70-100]_RMS_wd_0_R_dp0.2.pth.tar 70\n",
      "MAE 4.3066763366295016\n",
      "MSE 29.71222956930787\n",
      "Delta 2.2448196916390737\n"
     ]
    }
   ],
   "source": [
    "print(\"#\"*5, 'VAL',\"#\"*5)\n",
    "print(\"# Left - 70-100\")\n",
    "pred_left = predict_pipeline('val_70-100.csv', age=70, side='_L')\n",
    "metrics_pipeline(pred_left)\n",
    "pred_left.to_csv('predict_results/val_70-100_L.csv', index=False)\n",
    "print(\"# Right - 70-100\")\n",
    "pred_right = predict_pipeline('val_70-100.csv', age=70, side='_R')\n",
    "metrics_pipeline(pred_right)\n",
    "pred_right.to_csv('predict_results/val_70-100_R.csv', index=False)\n",
    "\n",
    "print(\"#\"*5, 'TEST',\"#\"*5)\n",
    "print(\"# Left - 70-100\")\n",
    "pred_left = predict_pipeline('test_70-100.csv', age=70, side='_L')\n",
    "metrics_pipeline(pred_left)\n",
    "pred_left.to_csv('predict_results/test_70-100_L.csv', index=False)\n",
    "print(\"# Right - 70-100\")\n",
    "pred_right = predict_pipeline('test_70-100.csv', age=70, side='_R')\n",
    "metrics_pipeline(pred_right)\n",
    "pred_right.to_csv('predict_results/test_70-100_R.csv', index=False)\n"
   ]
  },
  {
   "cell_type": "code",
   "execution_count": 14,
   "metadata": {},
   "outputs": [
    {
     "output_type": "stream",
     "name": "stdout",
     "text": [
      "# Left - 70-100\n",
      "outputs/ckpt_27-05-2021_age_[70-100]_RMS_wd_0_L_dp0.2.pth.tar 70\n",
      "MAE 6.910618394185481\n",
      "MSE 68.35870272455229\n",
      "Delta 6.142161085502953\n",
      "# Right - 70-11\n",
      "outputs/ckpt_27-05-2021_age_[70-100]_RMS_wd_0_R_dp0.2.pth.tar 70\n",
      "MAE 7.617103145909651\n",
      "MSE 80.87346241657352\n",
      "Delta 6.949431336325321\n",
      "# Left - 70-100\n",
      "outputs/ckpt_27-05-2021_age_[70-100]_RMS_wd_0_L_dp0.2.pth.tar 70\n",
      "MAE 6.434782841291086\n",
      "MSE 61.38389611448999\n",
      "Delta 4.6830616134096426\n",
      "# Right - 70-11\n",
      "outputs/ckpt_27-05-2021_age_[70-100]_RMS_wd_0_R_dp0.2.pth.tar 70\n",
      "MAE 7.248179061099353\n",
      "MSE 75.56198157082085\n",
      "Delta 6.271172426991253\n"
     ]
    }
   ],
   "source": [
    "# AD\n",
    "print(\"# Left - 70-100\")\n",
    "pred_left = predict_pipeline('ad_70-100.csv', age=70, side='_L')\n",
    "metrics_pipeline(pred_left)\n",
    "print(\"# Right - 70-11\")\n",
    "pred_right = predict_pipeline('ad_70-100.csv', age=70, side='_R')\n",
    "metrics_pipeline(pred_right)\n",
    "pred_left.to_csv('predict_results/ad_70-100_L.csv', index=False)\n",
    "pred_right.to_csv('predict_results/ad_70-100_R.csv', index=False)\n",
    "\n",
    "# MCI\n",
    "print(\"# Left - 70-100\")\n",
    "pred_left = predict_pipeline('mci_70-100.csv', age=70, side='_L')\n",
    "metrics_pipeline(pred_left)\n",
    "print(\"# Right - 70-11\")\n",
    "pred_right = predict_pipeline('mci_70-100.csv', age=70, side='_R')\n",
    "metrics_pipeline(pred_right)\n",
    "pred_left.to_csv('predict_results/mci_70-100_L.csv', index=False)\n",
    "pred_right.to_csv('predict_results/mci_70-100_R.csv', index=False)"
   ]
  },
  {
   "cell_type": "code",
   "execution_count": null,
   "metadata": {},
   "outputs": [],
   "source": []
  },
  {
   "cell_type": "code",
   "execution_count": null,
   "metadata": {},
   "outputs": [],
   "source": []
  }
 ],
 "metadata": {
  "kernelspec": {
   "name": "torch-dev",
   "display_name": "Python 3.6.9 64-bit"
  },
  "language_info": {
   "codemirror_mode": {
    "name": "ipython",
    "version": 3
   },
   "file_extension": ".py",
   "mimetype": "text/x-python",
   "name": "python",
   "nbconvert_exporter": "python",
   "pygments_lexer": "ipython3",
   "version": "3.6.9"
  }
 },
 "nbformat": 4,
 "nbformat_minor": 4
}